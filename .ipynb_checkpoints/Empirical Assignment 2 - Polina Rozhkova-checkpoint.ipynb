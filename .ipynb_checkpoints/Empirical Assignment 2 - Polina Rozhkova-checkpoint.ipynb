{
 "cells": [
  {
   "cell_type": "markdown",
   "id": "136be4e7",
   "metadata": {},
   "source": [
    "# Empirical Final Project"
   ]
  },
  {
   "cell_type": "markdown",
   "id": "ba7695a6",
   "metadata": {},
   "source": [
    "### SOCI-20559 Spatial Regression Analysis\n",
    "\n",
    "#### Empirical Assignment - 2\n",
    "\n",
    "#### Polina Rozhkova\n",
    "\n",
    "#### 5/5/2023"
   ]
  },
  {
   "cell_type": "markdown",
   "id": "4f6b2ae8",
   "metadata": {},
   "source": [
    "The objective of this research is to assess the spatial relationship between the accessibility of opioid treatment programs/opioid treatment medication clinics and opioid overdose fatalities across Chicago’s 77 Community Areas. Related literature measures treatment accessibility through distance as well as the number of licensed providers, the number of treatment facilities, and the number of treatment facilities accepting Medicaid (Ogneva-Himmelberger 2019). For this project I will use the number of licensed providers and the number of treatment or dispensing facilities in a community area. Additional factors that vary by environment and may affect the rate of fatal overdoses in given area include demographic data (race, percent of population living in poverty, median income, unemployment rate, percent of population that is uninsured) and accessibility to other healthcare providers such pharmacies and hospitals. The dependent variable will be the overdose mortality rate per 1000 (in an attempt to standardize across community areas that vary significantly in population size). \n",
    "\n",
    "Related studies employ geographically weighted regression (when the dependent variable is mortality rate) and other studies have used: logistic regressions and Poisson regression model (when the dependent variable is binary and includes all drug overdoses (fatal and non-fatal) with fatalities as 1’s). I will start by assessing a simple OLS regression and running tests for spatial effects before moving to a regression with spatial dependence. Finally, I hope to add GWR if it makes sense. "
   ]
  },
  {
   "cell_type": "markdown",
   "id": "f973273c",
   "metadata": {},
   "source": [
    "*Background*\n",
    "\n",
    "Intervention and public discourse around opioid-use disorder (and related substance use disorder) have led to the creation of the “opioid epidemic”, a public health emergency devastating every state in the nation, targeting predominantly white lower income Americans living in rural areas (Griffith et al. 2018, 843-844). We know however that heroin addiction and related substance-use disorders are far from a new phenomenon. As of late, it’s become evident (or more widely accepted) that prescription opioid overuse and abuse has impacted and continues to devastate individuals across racial and socioeconomic groups. Treatment options and care have been primarily targeted at white communities and have ignored the detrimental effects on Black people thereby reinforcing the racial inequities. \n",
    "Different groups require different and nuanced forms of treatment and support to live with addiction. Substance use disorder like most mental disorders can be the result of trauma, environment, negative or unlucky circumstances, and social pressures. Because addiction is so stratified, what may work for one individual might not work for another individual living in a different environment with less resources. One category of individuals with opioid use disorder may have greater access to prescription opiates, another category may be more likely to access “street drug” alternatives, and another relevant group is composed of individuals who are actively in treatment for opioid use disorder who then relapse due to decreased tolerance often resulting in death.\n"
   ]
  },
  {
   "cell_type": "code",
   "execution_count": 1,
   "id": "86b18b4c",
   "metadata": {},
   "outputs": [],
   "source": [
    "import numpy as np\n",
    "import pandas as pd\n",
    "import os\n",
    "os.environ['USE_PYGEOS'] = '0'\n",
    "import geopandas as gpd\n",
    "import libpysal\n",
    "import esda\n",
    "import spreg\n",
    "import time"
   ]
  },
  {
   "cell_type": "code",
   "execution_count": 2,
   "id": "c255fbb2",
   "metadata": {},
   "outputs": [
    {
     "data": {
      "text/plain": [
       "'1.3.2'"
      ]
     },
     "execution_count": 2,
     "metadata": {},
     "output_type": "execute_result"
    }
   ],
   "source": [
    "spreg.__version__"
   ]
  },
  {
   "cell_type": "code",
   "execution_count": 3,
   "id": "419d48d3",
   "metadata": {},
   "outputs": [],
   "source": [
    "pd.set_option('display.max_columns', None)"
   ]
  },
  {
   "cell_type": "code",
   "execution_count": 4,
   "id": "131409cb",
   "metadata": {},
   "outputs": [],
   "source": [
    "path = r'/Users/polinarozhkova/Desktop/GitHub/moud_access/data_final'"
   ]
  },
  {
   "cell_type": "code",
   "execution_count": 5,
   "id": "0b299fbc",
   "metadata": {},
   "outputs": [],
   "source": [
    "area_shp = gpd.read_file(os.path.join(path, 'Boundaries - Community Areas (current)',\n",
    "                        'geo_export_122237a7-de0c-463d-b81f-e6d53bf2e92a.shp'))\n",
    "od_df = pd.read_csv(os.path.join(path, 'chicago_overdose.csv'))\n",
    "dem_df = pd.read_csv(os.path.join(path, 'chicago_demograph.csv'))"
   ]
  },
  {
   "cell_type": "markdown",
   "id": "63bcbd88",
   "metadata": {},
   "source": [
    "### Load and Explore Data"
   ]
  },
  {
   "cell_type": "markdown",
   "id": "df4abef8",
   "metadata": {},
   "source": [
    "**od_df**: Opioid related mortality records are available through the Cook County Medical Examiner’s data portal including, individual characteristics, as well as the community area and coordinates of the deceased individual’s residence. I compiled buprenorphine provider location data from the Substance Abuse and Mental Health Services Administration and pharmacy location data from the Chicago city data portal. \n",
    "\n",
    "**dem_df**: The Heartland Alliance gathers demographic data from the American Community Survey on community health and economics which include race, population estimates for each community area, median household income, the percentage of individuals living in poverty, unemployment rate, and the percentage of uninsured population. While all these variables are related, and will likely present multicollinearity, they indicate slightly different characteristics that might be at play in different communities.  \n",
    "\n",
    "Community areas most impacted by opioid related overdose deaths are Austin, East Garfield, West Garfield, Humboldt Park, and North Lawndale. Though steadily increasing between 2019 and 2021, there seem to be no major changes in the areas that appear to be most heavily impacted (community areas with the highest rates of opioid related mortality in 2019 remain high through 2020 and 2021). For the project, I plan to use the 2021 opioid mortality data and demographic data from 2020—the findings for these years might not be generalizable but could be compared to cross sections from past years or future data.  "
   ]
  },
  {
   "cell_type": "code",
   "execution_count": 6,
   "id": "ebf97598",
   "metadata": {
    "scrolled": true
   },
   "outputs": [],
   "source": [
    "#area_shp.head()"
   ]
  },
  {
   "cell_type": "markdown",
   "id": "14055ded",
   "metadata": {},
   "source": [
    "Fatal overdoses, buprenorphone providers, and pharmacy locations were joined to the community area shapefile and aggregated."
   ]
  },
  {
   "cell_type": "code",
   "execution_count": 7,
   "id": "c4f69d4a",
   "metadata": {
    "scrolled": false
   },
   "outputs": [],
   "source": [
    "#od_df.head()"
   ]
  },
  {
   "cell_type": "code",
   "execution_count": 8,
   "id": "feacda93",
   "metadata": {
    "scrolled": false
   },
   "outputs": [
    {
     "data": {
      "text/html": [
       "<div>\n",
       "<style scoped>\n",
       "    .dataframe tbody tr th:only-of-type {\n",
       "        vertical-align: middle;\n",
       "    }\n",
       "\n",
       "    .dataframe tbody tr th {\n",
       "        vertical-align: top;\n",
       "    }\n",
       "\n",
       "    .dataframe thead th {\n",
       "        text-align: right;\n",
       "    }\n",
       "</style>\n",
       "<table border=\"1\" class=\"dataframe\">\n",
       "  <thead>\n",
       "    <tr style=\"text-align: right;\">\n",
       "      <th></th>\n",
       "      <th>area_num_1</th>\n",
       "      <th>region</th>\n",
       "      <th>shape_area</th>\n",
       "      <th>shape_len</th>\n",
       "      <th>od_2019</th>\n",
       "      <th>od_2020</th>\n",
       "      <th>od_2021</th>\n",
       "      <th>bupren_area</th>\n",
       "      <th>pharmacy_area</th>\n",
       "    </tr>\n",
       "  </thead>\n",
       "  <tbody>\n",
       "    <tr>\n",
       "      <th>count</th>\n",
       "      <td>77.000000</td>\n",
       "      <td>77.000000</td>\n",
       "      <td>7.700000e+01</td>\n",
       "      <td>77.000000</td>\n",
       "      <td>77.000000</td>\n",
       "      <td>77.000000</td>\n",
       "      <td>77.000000</td>\n",
       "      <td>77.000000</td>\n",
       "      <td>77.000000</td>\n",
       "    </tr>\n",
       "    <tr>\n",
       "      <th>mean</th>\n",
       "      <td>39.000000</td>\n",
       "      <td>3.896104</td>\n",
       "      <td>8.361453e+07</td>\n",
       "      <td>44397.606964</td>\n",
       "      <td>10.909091</td>\n",
       "      <td>15.844156</td>\n",
       "      <td>17.597403</td>\n",
       "      <td>7.181818</td>\n",
       "      <td>5.441558</td>\n",
       "    </tr>\n",
       "    <tr>\n",
       "      <th>std</th>\n",
       "      <td>22.371857</td>\n",
       "      <td>2.010397</td>\n",
       "      <td>5.494626e+07</td>\n",
       "      <td>20090.463816</td>\n",
       "      <td>13.945554</td>\n",
       "      <td>20.069003</td>\n",
       "      <td>22.436612</td>\n",
       "      <td>17.614832</td>\n",
       "      <td>5.608953</td>\n",
       "    </tr>\n",
       "    <tr>\n",
       "      <th>min</th>\n",
       "      <td>1.000000</td>\n",
       "      <td>1.000000</td>\n",
       "      <td>1.691396e+07</td>\n",
       "      <td>18137.944253</td>\n",
       "      <td>0.000000</td>\n",
       "      <td>0.000000</td>\n",
       "      <td>0.000000</td>\n",
       "      <td>0.000000</td>\n",
       "      <td>0.000000</td>\n",
       "    </tr>\n",
       "    <tr>\n",
       "      <th>25%</th>\n",
       "      <td>20.000000</td>\n",
       "      <td>2.000000</td>\n",
       "      <td>4.976964e+07</td>\n",
       "      <td>31948.598840</td>\n",
       "      <td>3.000000</td>\n",
       "      <td>4.000000</td>\n",
       "      <td>4.000000</td>\n",
       "      <td>0.000000</td>\n",
       "      <td>2.000000</td>\n",
       "    </tr>\n",
       "    <tr>\n",
       "      <th>50%</th>\n",
       "      <td>39.000000</td>\n",
       "      <td>4.000000</td>\n",
       "      <td>7.963575e+07</td>\n",
       "      <td>43229.372704</td>\n",
       "      <td>6.000000</td>\n",
       "      <td>9.000000</td>\n",
       "      <td>8.000000</td>\n",
       "      <td>2.000000</td>\n",
       "      <td>3.000000</td>\n",
       "    </tr>\n",
       "    <tr>\n",
       "      <th>75%</th>\n",
       "      <td>58.000000</td>\n",
       "      <td>6.000000</td>\n",
       "      <td>9.885317e+07</td>\n",
       "      <td>49478.427771</td>\n",
       "      <td>14.000000</td>\n",
       "      <td>18.000000</td>\n",
       "      <td>26.000000</td>\n",
       "      <td>5.000000</td>\n",
       "      <td>7.000000</td>\n",
       "    </tr>\n",
       "    <tr>\n",
       "      <th>max</th>\n",
       "      <td>77.000000</td>\n",
       "      <td>7.000000</td>\n",
       "      <td>3.718356e+08</td>\n",
       "      <td>173625.984660</td>\n",
       "      <td>88.000000</td>\n",
       "      <td>106.000000</td>\n",
       "      <td>138.000000</td>\n",
       "      <td>131.000000</td>\n",
       "      <td>25.000000</td>\n",
       "    </tr>\n",
       "  </tbody>\n",
       "</table>\n",
       "</div>"
      ],
      "text/plain": [
       "       area_num_1     region    shape_area      shape_len    od_2019   \n",
       "count   77.000000  77.000000  7.700000e+01      77.000000  77.000000  \\\n",
       "mean    39.000000   3.896104  8.361453e+07   44397.606964  10.909091   \n",
       "std     22.371857   2.010397  5.494626e+07   20090.463816  13.945554   \n",
       "min      1.000000   1.000000  1.691396e+07   18137.944253   0.000000   \n",
       "25%     20.000000   2.000000  4.976964e+07   31948.598840   3.000000   \n",
       "50%     39.000000   4.000000  7.963575e+07   43229.372704   6.000000   \n",
       "75%     58.000000   6.000000  9.885317e+07   49478.427771  14.000000   \n",
       "max     77.000000   7.000000  3.718356e+08  173625.984660  88.000000   \n",
       "\n",
       "          od_2020     od_2021  bupren_area  pharmacy_area  \n",
       "count   77.000000   77.000000    77.000000      77.000000  \n",
       "mean    15.844156   17.597403     7.181818       5.441558  \n",
       "std     20.069003   22.436612    17.614832       5.608953  \n",
       "min      0.000000    0.000000     0.000000       0.000000  \n",
       "25%      4.000000    4.000000     0.000000       2.000000  \n",
       "50%      9.000000    8.000000     2.000000       3.000000  \n",
       "75%     18.000000   26.000000     5.000000       7.000000  \n",
       "max    106.000000  138.000000   131.000000      25.000000  "
      ]
     },
     "execution_count": 8,
     "metadata": {},
     "output_type": "execute_result"
    }
   ],
   "source": [
    "od_df.describe()"
   ]
  },
  {
   "cell_type": "code",
   "execution_count": 9,
   "id": "8d4eeb52",
   "metadata": {
    "scrolled": false
   },
   "outputs": [],
   "source": [
    "#dem_df.head()"
   ]
  },
  {
   "cell_type": "code",
   "execution_count": 10,
   "id": "66c10530",
   "metadata": {
    "scrolled": true
   },
   "outputs": [
    {
     "data": {
      "text/html": [
       "<div>\n",
       "<style scoped>\n",
       "    .dataframe tbody tr th:only-of-type {\n",
       "        vertical-align: middle;\n",
       "    }\n",
       "\n",
       "    .dataframe tbody tr th {\n",
       "        vertical-align: top;\n",
       "    }\n",
       "\n",
       "    .dataframe thead th {\n",
       "        text-align: right;\n",
       "    }\n",
       "</style>\n",
       "<table border=\"1\" class=\"dataframe\">\n",
       "  <thead>\n",
       "    <tr style=\"text-align: right;\">\n",
       "      <th></th>\n",
       "      <th>% in Poverty</th>\n",
       "      <th>% in Extreme Poverty</th>\n",
       "      <th>Child Poverty Rate</th>\n",
       "      <th>% Female</th>\n",
       "      <th>% Male</th>\n",
       "      <th>% Black</th>\n",
       "      <th>% Hispanic</th>\n",
       "      <th>% White</th>\n",
       "      <th>% Aged 0-4</th>\n",
       "      <th>% Aged 5-17</th>\n",
       "      <th>% Aged 18-24</th>\n",
       "      <th>% Aged 25-64</th>\n",
       "      <th>% Aged 65+</th>\n",
       "      <th>Total Pop.</th>\n",
       "      <th>Change in Pop. (2018 to 2019)</th>\n",
       "      <th>Overall Unemp.</th>\n",
       "      <th>Unemp. 16-19 yr. olds</th>\n",
       "      <th>Unemp. 20-24 yr. olds</th>\n",
       "      <th>% no HS Diploma</th>\n",
       "      <th>% HS or GED</th>\n",
       "      <th>Some College</th>\n",
       "      <th>% Associates Deg.</th>\n",
       "      <th>% Bachelors Deg.</th>\n",
       "      <th>Homeownership Rate</th>\n",
       "      <th>Rent Burden</th>\n",
       "      <th>SNAP Enrollment Rate</th>\n",
       "      <th>% Cash Assist.</th>\n",
       "      <th>Uninsured Rate</th>\n",
       "      <th>Avg. Med. Household Income (2020 Dollars)</th>\n",
       "    </tr>\n",
       "  </thead>\n",
       "  <tbody>\n",
       "    <tr>\n",
       "      <th>count</th>\n",
       "      <td>77.000000</td>\n",
       "      <td>77.000000</td>\n",
       "      <td>77.000000</td>\n",
       "      <td>77.000000</td>\n",
       "      <td>77.000000</td>\n",
       "      <td>77.000000</td>\n",
       "      <td>77.000000</td>\n",
       "      <td>77.000000</td>\n",
       "      <td>77.000000</td>\n",
       "      <td>77.000000</td>\n",
       "      <td>77.000000</td>\n",
       "      <td>77.000000</td>\n",
       "      <td>77.000000</td>\n",
       "      <td>77.000000</td>\n",
       "      <td>77.000000</td>\n",
       "      <td>77.000000</td>\n",
       "      <td>77.000000</td>\n",
       "      <td>77.000000</td>\n",
       "      <td>77.000000</td>\n",
       "      <td>77.000000</td>\n",
       "      <td>77.000000</td>\n",
       "      <td>77.000000</td>\n",
       "      <td>77.000000</td>\n",
       "      <td>77.000000</td>\n",
       "      <td>77.000000</td>\n",
       "      <td>77.000000</td>\n",
       "      <td>77.000000</td>\n",
       "      <td>77.000000</td>\n",
       "      <td>77.000000</td>\n",
       "    </tr>\n",
       "    <tr>\n",
       "      <th>mean</th>\n",
       "      <td>19.070130</td>\n",
       "      <td>8.907792</td>\n",
       "      <td>-0.406494</td>\n",
       "      <td>52.272727</td>\n",
       "      <td>47.727273</td>\n",
       "      <td>36.907792</td>\n",
       "      <td>26.449351</td>\n",
       "      <td>27.890909</td>\n",
       "      <td>6.238961</td>\n",
       "      <td>15.236364</td>\n",
       "      <td>9.550649</td>\n",
       "      <td>54.898701</td>\n",
       "      <td>14.070130</td>\n",
       "      <td>35060.361039</td>\n",
       "      <td>0.001299</td>\n",
       "      <td>10.536364</td>\n",
       "      <td>33.006494</td>\n",
       "      <td>19.274026</td>\n",
       "      <td>15.242857</td>\n",
       "      <td>24.890909</td>\n",
       "      <td>19.471429</td>\n",
       "      <td>6.155844</td>\n",
       "      <td>34.246753</td>\n",
       "      <td>48.470130</td>\n",
       "      <td>49.896104</td>\n",
       "      <td>21.287013</td>\n",
       "      <td>3.427273</td>\n",
       "      <td>10.607792</td>\n",
       "      <td>60061.219481</td>\n",
       "    </tr>\n",
       "    <tr>\n",
       "      <th>std</th>\n",
       "      <td>10.982032</td>\n",
       "      <td>6.205023</td>\n",
       "      <td>2.910523</td>\n",
       "      <td>3.330388</td>\n",
       "      <td>3.330388</td>\n",
       "      <td>38.575052</td>\n",
       "      <td>27.459035</td>\n",
       "      <td>26.347292</td>\n",
       "      <td>1.711813</td>\n",
       "      <td>4.695572</td>\n",
       "      <td>3.251705</td>\n",
       "      <td>6.716936</td>\n",
       "      <td>4.776782</td>\n",
       "      <td>23114.726472</td>\n",
       "      <td>0.025616</td>\n",
       "      <td>6.674084</td>\n",
       "      <td>21.183430</td>\n",
       "      <td>12.692511</td>\n",
       "      <td>9.146576</td>\n",
       "      <td>10.138828</td>\n",
       "      <td>7.052936</td>\n",
       "      <td>1.924940</td>\n",
       "      <td>22.080526</td>\n",
       "      <td>19.223882</td>\n",
       "      <td>11.360220</td>\n",
       "      <td>14.523849</td>\n",
       "      <td>1.806686</td>\n",
       "      <td>4.823238</td>\n",
       "      <td>24285.115980</td>\n",
       "    </tr>\n",
       "    <tr>\n",
       "      <th>min</th>\n",
       "      <td>3.300000</td>\n",
       "      <td>1.700000</td>\n",
       "      <td>-6.100000</td>\n",
       "      <td>42.400000</td>\n",
       "      <td>38.700000</td>\n",
       "      <td>0.400000</td>\n",
       "      <td>0.000000</td>\n",
       "      <td>0.800000</td>\n",
       "      <td>0.900000</td>\n",
       "      <td>2.600000</td>\n",
       "      <td>2.100000</td>\n",
       "      <td>40.500000</td>\n",
       "      <td>5.900000</td>\n",
       "      <td>2158.200000</td>\n",
       "      <td>-0.100000</td>\n",
       "      <td>0.700000</td>\n",
       "      <td>0.000000</td>\n",
       "      <td>0.000000</td>\n",
       "      <td>1.800000</td>\n",
       "      <td>3.300000</td>\n",
       "      <td>6.800000</td>\n",
       "      <td>1.800000</td>\n",
       "      <td>6.700000</td>\n",
       "      <td>8.800000</td>\n",
       "      <td>24.500000</td>\n",
       "      <td>1.500000</td>\n",
       "      <td>0.600000</td>\n",
       "      <td>1.500000</td>\n",
       "      <td>25700.000000</td>\n",
       "    </tr>\n",
       "    <tr>\n",
       "      <th>25%</th>\n",
       "      <td>10.900000</td>\n",
       "      <td>4.300000</td>\n",
       "      <td>-2.200000</td>\n",
       "      <td>50.100000</td>\n",
       "      <td>45.400000</td>\n",
       "      <td>3.000000</td>\n",
       "      <td>5.400000</td>\n",
       "      <td>4.400000</td>\n",
       "      <td>5.400000</td>\n",
       "      <td>11.600000</td>\n",
       "      <td>7.700000</td>\n",
       "      <td>50.500000</td>\n",
       "      <td>10.600000</td>\n",
       "      <td>18337.800000</td>\n",
       "      <td>0.000000</td>\n",
       "      <td>5.100000</td>\n",
       "      <td>18.500000</td>\n",
       "      <td>9.000000</td>\n",
       "      <td>8.100000</td>\n",
       "      <td>18.900000</td>\n",
       "      <td>14.400000</td>\n",
       "      <td>4.900000</td>\n",
       "      <td>16.300000</td>\n",
       "      <td>35.200000</td>\n",
       "      <td>41.600000</td>\n",
       "      <td>9.200000</td>\n",
       "      <td>2.100000</td>\n",
       "      <td>8.200000</td>\n",
       "      <td>42576.200000</td>\n",
       "    </tr>\n",
       "    <tr>\n",
       "      <th>50%</th>\n",
       "      <td>15.700000</td>\n",
       "      <td>6.700000</td>\n",
       "      <td>-0.300000</td>\n",
       "      <td>51.700000</td>\n",
       "      <td>48.300000</td>\n",
       "      <td>13.300000</td>\n",
       "      <td>13.200000</td>\n",
       "      <td>14.700000</td>\n",
       "      <td>6.300000</td>\n",
       "      <td>16.000000</td>\n",
       "      <td>9.200000</td>\n",
       "      <td>52.800000</td>\n",
       "      <td>13.200000</td>\n",
       "      <td>29489.900000</td>\n",
       "      <td>0.000000</td>\n",
       "      <td>8.500000</td>\n",
       "      <td>29.400000</td>\n",
       "      <td>15.300000</td>\n",
       "      <td>13.600000</td>\n",
       "      <td>25.600000</td>\n",
       "      <td>19.300000</td>\n",
       "      <td>6.100000</td>\n",
       "      <td>28.600000</td>\n",
       "      <td>45.300000</td>\n",
       "      <td>50.600000</td>\n",
       "      <td>17.300000</td>\n",
       "      <td>3.300000</td>\n",
       "      <td>10.400000</td>\n",
       "      <td>52596.600000</td>\n",
       "    </tr>\n",
       "    <tr>\n",
       "      <th>75%</th>\n",
       "      <td>25.500000</td>\n",
       "      <td>12.100000</td>\n",
       "      <td>0.500000</td>\n",
       "      <td>54.600000</td>\n",
       "      <td>49.900000</td>\n",
       "      <td>82.600000</td>\n",
       "      <td>45.900000</td>\n",
       "      <td>48.800000</td>\n",
       "      <td>7.200000</td>\n",
       "      <td>18.400000</td>\n",
       "      <td>10.900000</td>\n",
       "      <td>58.500000</td>\n",
       "      <td>16.600000</td>\n",
       "      <td>46747.800000</td>\n",
       "      <td>0.000000</td>\n",
       "      <td>16.100000</td>\n",
       "      <td>48.500000</td>\n",
       "      <td>27.800000</td>\n",
       "      <td>20.800000</td>\n",
       "      <td>32.100000</td>\n",
       "      <td>25.100000</td>\n",
       "      <td>7.600000</td>\n",
       "      <td>43.600000</td>\n",
       "      <td>64.500000</td>\n",
       "      <td>58.700000</td>\n",
       "      <td>33.000000</td>\n",
       "      <td>4.600000</td>\n",
       "      <td>12.500000</td>\n",
       "      <td>74054.100000</td>\n",
       "    </tr>\n",
       "    <tr>\n",
       "      <th>max</th>\n",
       "      <td>47.600000</td>\n",
       "      <td>34.800000</td>\n",
       "      <td>12.300000</td>\n",
       "      <td>61.300000</td>\n",
       "      <td>57.600000</td>\n",
       "      <td>96.500000</td>\n",
       "      <td>91.000000</td>\n",
       "      <td>82.700000</td>\n",
       "      <td>11.400000</td>\n",
       "      <td>24.000000</td>\n",
       "      <td>24.600000</td>\n",
       "      <td>75.900000</td>\n",
       "      <td>28.500000</td>\n",
       "      <td>101392.000000</td>\n",
       "      <td>0.100000</td>\n",
       "      <td>29.700000</td>\n",
       "      <td>100.000000</td>\n",
       "      <td>51.600000</td>\n",
       "      <td>41.000000</td>\n",
       "      <td>42.200000</td>\n",
       "      <td>42.700000</td>\n",
       "      <td>10.200000</td>\n",
       "      <td>85.300000</td>\n",
       "      <td>91.700000</td>\n",
       "      <td>72.500000</td>\n",
       "      <td>61.600000</td>\n",
       "      <td>9.100000</td>\n",
       "      <td>24.000000</td>\n",
       "      <td>128699.800000</td>\n",
       "    </tr>\n",
       "  </tbody>\n",
       "</table>\n",
       "</div>"
      ],
      "text/plain": [
       "       % in Poverty  % in Extreme Poverty  Child Poverty Rate   % Female   \n",
       "count     77.000000             77.000000           77.000000  77.000000  \\\n",
       "mean      19.070130              8.907792           -0.406494  52.272727   \n",
       "std       10.982032              6.205023            2.910523   3.330388   \n",
       "min        3.300000              1.700000           -6.100000  42.400000   \n",
       "25%       10.900000              4.300000           -2.200000  50.100000   \n",
       "50%       15.700000              6.700000           -0.300000  51.700000   \n",
       "75%       25.500000             12.100000            0.500000  54.600000   \n",
       "max       47.600000             34.800000           12.300000  61.300000   \n",
       "\n",
       "          % Male    % Black  % Hispanic    % White  % Aged 0-4  % Aged 5-17   \n",
       "count  77.000000  77.000000   77.000000  77.000000   77.000000    77.000000  \\\n",
       "mean   47.727273  36.907792   26.449351  27.890909    6.238961    15.236364   \n",
       "std     3.330388  38.575052   27.459035  26.347292    1.711813     4.695572   \n",
       "min    38.700000   0.400000    0.000000   0.800000    0.900000     2.600000   \n",
       "25%    45.400000   3.000000    5.400000   4.400000    5.400000    11.600000   \n",
       "50%    48.300000  13.300000   13.200000  14.700000    6.300000    16.000000   \n",
       "75%    49.900000  82.600000   45.900000  48.800000    7.200000    18.400000   \n",
       "max    57.600000  96.500000   91.000000  82.700000   11.400000    24.000000   \n",
       "\n",
       "       % Aged 18-24  % Aged 25-64  % Aged 65+     Total Pop.   \n",
       "count     77.000000     77.000000   77.000000      77.000000  \\\n",
       "mean       9.550649     54.898701   14.070130   35060.361039   \n",
       "std        3.251705      6.716936    4.776782   23114.726472   \n",
       "min        2.100000     40.500000    5.900000    2158.200000   \n",
       "25%        7.700000     50.500000   10.600000   18337.800000   \n",
       "50%        9.200000     52.800000   13.200000   29489.900000   \n",
       "75%       10.900000     58.500000   16.600000   46747.800000   \n",
       "max       24.600000     75.900000   28.500000  101392.000000   \n",
       "\n",
       "       Change in Pop. (2018 to 2019)  Overall Unemp.  Unemp. 16-19 yr. olds   \n",
       "count                      77.000000       77.000000              77.000000  \\\n",
       "mean                        0.001299       10.536364              33.006494   \n",
       "std                         0.025616        6.674084              21.183430   \n",
       "min                        -0.100000        0.700000               0.000000   \n",
       "25%                         0.000000        5.100000              18.500000   \n",
       "50%                         0.000000        8.500000              29.400000   \n",
       "75%                         0.000000       16.100000              48.500000   \n",
       "max                         0.100000       29.700000             100.000000   \n",
       "\n",
       "       Unemp. 20-24 yr. olds  % no HS Diploma  % HS or GED  Some College   \n",
       "count              77.000000        77.000000    77.000000     77.000000  \\\n",
       "mean               19.274026        15.242857    24.890909     19.471429   \n",
       "std                12.692511         9.146576    10.138828      7.052936   \n",
       "min                 0.000000         1.800000     3.300000      6.800000   \n",
       "25%                 9.000000         8.100000    18.900000     14.400000   \n",
       "50%                15.300000        13.600000    25.600000     19.300000   \n",
       "75%                27.800000        20.800000    32.100000     25.100000   \n",
       "max                51.600000        41.000000    42.200000     42.700000   \n",
       "\n",
       "       % Associates Deg.  % Bachelors Deg.  Homeownership Rate  Rent Burden   \n",
       "count          77.000000         77.000000           77.000000    77.000000  \\\n",
       "mean            6.155844         34.246753           48.470130    49.896104   \n",
       "std             1.924940         22.080526           19.223882    11.360220   \n",
       "min             1.800000          6.700000            8.800000    24.500000   \n",
       "25%             4.900000         16.300000           35.200000    41.600000   \n",
       "50%             6.100000         28.600000           45.300000    50.600000   \n",
       "75%             7.600000         43.600000           64.500000    58.700000   \n",
       "max            10.200000         85.300000           91.700000    72.500000   \n",
       "\n",
       "       SNAP Enrollment Rate  % Cash Assist.  Uninsured Rate   \n",
       "count             77.000000       77.000000       77.000000  \\\n",
       "mean              21.287013        3.427273       10.607792   \n",
       "std               14.523849        1.806686        4.823238   \n",
       "min                1.500000        0.600000        1.500000   \n",
       "25%                9.200000        2.100000        8.200000   \n",
       "50%               17.300000        3.300000       10.400000   \n",
       "75%               33.000000        4.600000       12.500000   \n",
       "max               61.600000        9.100000       24.000000   \n",
       "\n",
       "       Avg. Med. Household Income (2020 Dollars)  \n",
       "count                                  77.000000  \n",
       "mean                                60061.219481  \n",
       "std                                 24285.115980  \n",
       "min                                 25700.000000  \n",
       "25%                                 42576.200000  \n",
       "50%                                 52596.600000  \n",
       "75%                                 74054.100000  \n",
       "max                                128699.800000  "
      ]
     },
     "execution_count": 10,
     "metadata": {},
     "output_type": "execute_result"
    }
   ],
   "source": [
    "dem_df.iloc[1:].describe() "
   ]
  },
  {
   "cell_type": "code",
   "execution_count": 11,
   "id": "4cd8d7c7",
   "metadata": {},
   "outputs": [],
   "source": [
    "dem_df2 = dem_df[['community', 'Total Pop.', '% in Poverty',\n",
    "                        '% in Extreme Poverty', '% Female',\n",
    "                        '% Black', '% Hispanic', '% White', '% Aged 0-4',\n",
    "                        '% Aged 5-17', '% Aged 18-24',\n",
    "                        '% Aged 25-64', '% Aged 65+',\n",
    "                        'Overall Unemp.', 'Unemp. 20-24 yr. olds',\n",
    "                        '% no HS Diploma', '% HS or GED',\n",
    "                        '% Bachelors Deg.', 'Homeownership Rate',\n",
    "                        'SNAP Enrollment Rate', '% Cash Assist.',\n",
    "                        'Uninsured Rate',\n",
    "                        'Avg. Med. Household Income (2020 Dollars)']]"
   ]
  },
  {
   "cell_type": "code",
   "execution_count": 12,
   "id": "228c3249",
   "metadata": {},
   "outputs": [],
   "source": [
    "od_df2 = od_df.merge(dem_df2, how='inner', indicator=True) #drop Chicago overall"
   ]
  },
  {
   "cell_type": "code",
   "execution_count": 13,
   "id": "860ef58b",
   "metadata": {},
   "outputs": [
    {
     "data": {
      "text/plain": [
       "(77, 34)"
      ]
     },
     "execution_count": 13,
     "metadata": {},
     "output_type": "execute_result"
    }
   ],
   "source": [
    "od_df2.shape"
   ]
  },
  {
   "cell_type": "code",
   "execution_count": 14,
   "id": "fb3042fe",
   "metadata": {
    "scrolled": true
   },
   "outputs": [],
   "source": [
    "#od_df2.columns"
   ]
  },
  {
   "cell_type": "markdown",
   "id": "097bdfa3",
   "metadata": {},
   "source": [
    "Standardizing the dependent variable, number of fatal overdoses in a given area, and the key independent variables, the concentration of buprenorphine and pharmacies in a given community area.\n",
    "\n",
    "Overdose rate per 100 (minimum pop. is 2158)"
   ]
  },
  {
   "cell_type": "code",
   "execution_count": 15,
   "id": "376ca6c0",
   "metadata": {
    "scrolled": true
   },
   "outputs": [],
   "source": [
    "def spat_intensive(df, var1, var2, var3, var4, var5):\n",
    "    df[var1]  = (df[var1]/df['Total Pop.'])*100\n",
    "    df[var2]  = (df[var2]/df['Total Pop.'])*100\n",
    "    df[var3]  = (df[var3]/df['Total Pop.'])*100\n",
    "    df[var4]  = (df[var4]/df['Total Pop.'])*100\n",
    "    df[var5]  = (df[var5]/df['Total Pop.'])*100\n",
    "    return df\n",
    "\n",
    "od_df2 = spat_intensive(od_df2, 'od_2019', 'od_2020', 'od_2021', 'bupren_area', 'pharmacy_area')\n",
    "#od_df2"
   ]
  },
  {
   "cell_type": "code",
   "execution_count": 16,
   "id": "5d112cb0",
   "metadata": {
    "scrolled": true
   },
   "outputs": [],
   "source": [
    "wq = libpysal.io.open(os.path.join(path, \"Boundaries - Community Areas (current)/q_order1.gal\")).read()\n",
    "wq.transform = 'r'\n",
    "# wq.weights"
   ]
  },
  {
   "cell_type": "code",
   "execution_count": 17,
   "id": "f911f537",
   "metadata": {},
   "outputs": [
    {
     "data": {
      "text/plain": [
       "[0.25, 0.25, 0.25, 0.25]"
      ]
     },
     "execution_count": 17,
     "metadata": {},
     "output_type": "execute_result"
    }
   ],
   "source": [
    "wq.n\n",
    "wq.weights['77']"
   ]
  },
  {
   "cell_type": "markdown",
   "id": "8bac381a",
   "metadata": {},
   "source": [
    "### Model Specification"
   ]
  },
  {
   "cell_type": "markdown",
   "id": "46a9bb34",
   "metadata": {},
   "source": [
    "I have three dependent variables, the overdose rate in 2019, the overdose rate in 2020, and the overdose rate in 2021. I will start with 2019. "
   ]
  },
  {
   "cell_type": "code",
   "execution_count": 18,
   "id": "dee68618",
   "metadata": {},
   "outputs": [],
   "source": [
    "y_name1 = 'od_2019'\n",
    "y_name2 = 'od_2020'\n",
    "y_name3 = 'od_2021'"
   ]
  },
  {
   "cell_type": "code",
   "execution_count": 54,
   "id": "b7475aaf",
   "metadata": {},
   "outputs": [],
   "source": [
    "x_names1 = ['bupren_area']\n",
    "x_names2 = ['bupren_area', #'pharmacy_area',\n",
    "            #'community',\n",
    "            #'region',\n",
    "            #'Total Pop.', \n",
    "            '% in Poverty',\n",
    "            #'% in Extreme Poverty',\n",
    "            '% Female',\n",
    "            '% Black',\n",
    "            '% Hispanic',\n",
    "            '% White', \n",
    "            #'% Aged 0-4',\n",
    "            #'% Aged 5-17',\n",
    "            #'% Aged 18-24',\n",
    "            #'% Aged 25-64',\n",
    "            '% Aged 65+',\n",
    "            'Overall Unemp.',\n",
    "            #'Unemp. 20-24 yr. olds',\n",
    "            '% no HS Diploma',\n",
    "            '% HS or GED',\n",
    "            '% Bachelors Deg.',\n",
    "            #'Homeownership Rate',\n",
    "            #'SNAP Enrollment Rate',\n",
    "            #'% Cash Assist.',\n",
    "            'Uninsured Rate',\n",
    "            #'Avg. Med. Household Income (2020 Dollars)'\n",
    "           ]"
   ]
  },
  {
   "cell_type": "code",
   "execution_count": 55,
   "id": "9187973f",
   "metadata": {},
   "outputs": [],
   "source": [
    "ds_name = 'od_df2'\n",
    "w_name = 'q_order1'"
   ]
  },
  {
   "cell_type": "code",
   "execution_count": 56,
   "id": "c84fd374",
   "metadata": {},
   "outputs": [
    {
     "data": {
      "text/plain": [
       "(77,)"
      ]
     },
     "execution_count": 56,
     "metadata": {},
     "output_type": "execute_result"
    }
   ],
   "source": [
    "y1 = np.array(od_df2[y_name1])\n",
    "y2 = np.array(od_df2[y_name2])\n",
    "y3 = np.array(od_df2[y_name3])\n",
    "y1.shape"
   ]
  },
  {
   "cell_type": "code",
   "execution_count": 57,
   "id": "13edfd0a",
   "metadata": {},
   "outputs": [
    {
     "data": {
      "text/plain": [
       "(77, 1)"
      ]
     },
     "execution_count": 57,
     "metadata": {},
     "output_type": "execute_result"
    }
   ],
   "source": [
    "x1 = np.array(od_df2[x_names1])\n",
    "x1.shape"
   ]
  },
  {
   "cell_type": "code",
   "execution_count": 58,
   "id": "2b1c9964",
   "metadata": {},
   "outputs": [
    {
     "data": {
      "text/plain": [
       "(77, 12)"
      ]
     },
     "execution_count": 58,
     "metadata": {},
     "output_type": "execute_result"
    }
   ],
   "source": [
    "x2 = np.array(od_df2[x_names2])\n",
    "x2.shape"
   ]
  },
  {
   "cell_type": "markdown",
   "id": "b40c5f74",
   "metadata": {},
   "source": [
    "### OLS Regression"
   ]
  },
  {
   "cell_type": "code",
   "execution_count": 59,
   "id": "0906c25e",
   "metadata": {
    "scrolled": false
   },
   "outputs": [
    {
     "name": "stdout",
     "output_type": "stream",
     "text": [
      "REGRESSION\n",
      "----------\n",
      "SUMMARY OF OUTPUT: ORDINARY LEAST SQUARES\n",
      "-----------------------------------------\n",
      "Data set            :      od_df2\n",
      "Weights matrix      :        None\n",
      "Dependent Variable  :     od_2021                Number of Observations:          77\n",
      "Mean dependent var  :      0.0574                Number of Variables   :           2\n",
      "S.D. dependent var  :      0.0830                Degrees of Freedom    :          75\n",
      "R-squared           :      0.0450\n",
      "Adjusted R-squared  :      0.0323\n",
      "Sum squared residual:       0.500                F-statistic           :      3.5349\n",
      "Sigma-square        :       0.007                Prob(F-statistic)     :     0.06397\n",
      "S.E. of regression  :       0.082                Log likelihood        :      84.627\n",
      "Sigma-square ML     :       0.006                Akaike info criterion :    -165.255\n",
      "S.E of regression ML:      0.0806                Schwarz criterion     :    -160.567\n",
      "\n",
      "------------------------------------------------------------------------------------\n",
      "            Variable     Coefficient       Std.Error     t-Statistic     Probability\n",
      "------------------------------------------------------------------------------------\n",
      "            CONSTANT       0.0484123       0.0104554       4.6303389       0.0000150\n",
      "         bupren_area       0.5302840       0.2820450       1.8801397       0.0639722\n",
      "------------------------------------------------------------------------------------\n",
      "\n",
      "REGRESSION DIAGNOSTICS\n",
      "MULTICOLLINEARITY CONDITION NUMBER            1.634\n",
      "\n",
      "TEST ON NORMALITY OF ERRORS\n",
      "TEST                             DF        VALUE           PROB\n",
      "Jarque-Bera                       2         989.670           0.0000\n",
      "\n",
      "DIAGNOSTICS FOR HETEROSKEDASTICITY\n",
      "RANDOM COEFFICIENTS\n",
      "TEST                             DF        VALUE           PROB\n",
      "Breusch-Pagan test                1           0.054           0.8159\n",
      "Koenker-Bassett test              1           0.006           0.9380\n",
      "================================ END OF REPORT =====================================\n"
     ]
    }
   ],
   "source": [
    "ols1 = spreg.OLS(y3, x1, name_y=y_name3, name_x=x_names1, name_ds=ds_name)\n",
    "print(ols1.summary)"
   ]
  },
  {
   "cell_type": "code",
   "execution_count": 60,
   "id": "3341a7e8",
   "metadata": {},
   "outputs": [],
   "source": [
    "ols2 = spreg.OLS(y3, x2, name_y=y_name3, name_x=x_names2, name_ds=ds_name)"
   ]
  },
  {
   "cell_type": "code",
   "execution_count": 62,
   "id": "872bb1de",
   "metadata": {},
   "outputs": [
    {
     "name": "stdout",
     "output_type": "stream",
     "text": [
      "REGRESSION\n",
      "----------\n",
      "SUMMARY OF OUTPUT: ORDINARY LEAST SQUARES\n",
      "-----------------------------------------\n",
      "Data set            :      od_df2\n",
      "Weights matrix      :        None\n",
      "Dependent Variable  :     od_2021                Number of Observations:          77\n",
      "Mean dependent var  :      0.0574                Number of Variables   :          13\n",
      "S.D. dependent var  :      0.0830                Degrees of Freedom    :          64\n",
      "R-squared           :      0.6205\n",
      "Adjusted R-squared  :      0.5493\n",
      "Sum squared residual:       0.199                F-statistic           :      8.7202\n",
      "Sigma-square        :       0.003                Prob(F-statistic)     :   1.511e-09\n",
      "S.E. of regression  :       0.056                Log likelihood        :     120.157\n",
      "Sigma-square ML     :       0.003                Akaike info criterion :    -214.314\n",
      "S.E of regression ML:      0.0508                Schwarz criterion     :    -183.844\n",
      "\n",
      "------------------------------------------------------------------------------------\n",
      "            Variable     Coefficient       Std.Error     t-Statistic     Probability\n",
      "------------------------------------------------------------------------------------\n",
      "            CONSTANT      -0.0027962       0.3123383      -0.0089525       0.9928849\n",
      "         bupren_area       0.1536160       0.2189487       0.7016075       0.4854675\n",
      "        % in Poverty       0.0023309       0.0014710       1.5845889       0.1179891\n",
      "            % Female      -0.0074133       0.0035213      -2.1052507       0.0391997\n",
      "             % Black       0.0029475       0.0009459       3.1160908       0.0027432\n",
      "          % Hispanic       0.0003532       0.0008543       0.4134748       0.6806410\n",
      "             % White       0.0033088       0.0011718       2.8237211       0.0063206\n",
      "          % Aged 65+      -0.0002493       0.0019289      -0.1292524       0.8975633\n",
      "      Overall Unemp.       0.0007025       0.0028660       0.2451066       0.8071581\n",
      "     % no HS Diploma       0.0087134       0.0027014       3.2255199       0.0019821\n",
      "         % HS or GED       0.0021980       0.0031148       0.7056589       0.4829610\n",
      "    % Bachelors Deg.       0.0014099       0.0016451       0.8570207       0.3946313\n",
      "      Uninsured Rate      -0.0046659       0.0022468      -2.0766886       0.0418503\n",
      "------------------------------------------------------------------------------------\n",
      "\n",
      "REGRESSION DIAGNOSTICS\n",
      "MULTICOLLINEARITY CONDITION NUMBER          173.687\n",
      "\n",
      "TEST ON NORMALITY OF ERRORS\n",
      "TEST                             DF        VALUE           PROB\n",
      "Jarque-Bera                       2         207.867           0.0000\n",
      "\n",
      "DIAGNOSTICS FOR HETEROSKEDASTICITY\n",
      "RANDOM COEFFICIENTS\n",
      "TEST                             DF        VALUE           PROB\n",
      "Breusch-Pagan test               12         142.981           0.0000\n",
      "Koenker-Bassett test             12          30.482           0.0024\n",
      "================================ END OF REPORT =====================================\n"
     ]
    }
   ],
   "source": [
    "print(ols2.summary)"
   ]
  },
  {
   "cell_type": "markdown",
   "id": "65ae51ee",
   "metadata": {},
   "source": [
    "### LM Diagnostics "
   ]
  },
  {
   "cell_type": "markdown",
   "id": "001dbe0e",
   "metadata": {},
   "source": [
    "### Spatial Lag Model "
   ]
  },
  {
   "cell_type": "code",
   "execution_count": 63,
   "id": "518d01ea",
   "metadata": {},
   "outputs": [
    {
     "name": "stdout",
     "output_type": "stream",
     "text": [
      "REGRESSION\n",
      "----------\n",
      "SUMMARY OF OUTPUT: ORDINARY LEAST SQUARES\n",
      "-----------------------------------------\n",
      "Data set            :      od_df2\n",
      "Weights matrix      :    q_order1\n",
      "Dependent Variable  :     od_2021                Number of Observations:          77\n",
      "Mean dependent var  :      0.0574                Number of Variables   :           2\n",
      "S.D. dependent var  :      0.0830                Degrees of Freedom    :          75\n",
      "R-squared           :      0.0450\n",
      "Adjusted R-squared  :      0.0323\n",
      "Sum squared residual:       0.500                F-statistic           :      3.5349\n",
      "Sigma-square        :       0.007                Prob(F-statistic)     :     0.06397\n",
      "S.E. of regression  :       0.082                Log likelihood        :      84.627\n",
      "Sigma-square ML     :       0.006                Akaike info criterion :    -165.255\n",
      "S.E of regression ML:      0.0806                Schwarz criterion     :    -160.567\n",
      "\n",
      "------------------------------------------------------------------------------------\n",
      "            Variable     Coefficient       Std.Error     t-Statistic     Probability\n",
      "------------------------------------------------------------------------------------\n",
      "            CONSTANT       0.0484123       0.0104554       4.6303389       0.0000150\n",
      "         bupren_area       0.5302840       0.2820450       1.8801397       0.0639722\n",
      "------------------------------------------------------------------------------------\n",
      "\n",
      "REGRESSION DIAGNOSTICS\n",
      "MULTICOLLINEARITY CONDITION NUMBER            1.634\n",
      "\n",
      "TEST ON NORMALITY OF ERRORS\n",
      "TEST                             DF        VALUE           PROB\n",
      "Jarque-Bera                       2         989.670           0.0000\n",
      "\n",
      "DIAGNOSTICS FOR HETEROSKEDASTICITY\n",
      "RANDOM COEFFICIENTS\n",
      "TEST                             DF        VALUE           PROB\n",
      "Breusch-Pagan test                1           0.054           0.8159\n",
      "Koenker-Bassett test              1           0.006           0.9380\n",
      "\n",
      "DIAGNOSTICS FOR SPATIAL DEPENDENCE\n",
      "TEST                           MI/DF       VALUE           PROB\n",
      "Moran's I (error)              0.2982         4.383           0.0000\n",
      "Lagrange Multiplier (lag)         1          20.462           0.0000\n",
      "Robust LM (lag)                   1          10.630           0.0011\n",
      "Lagrange Multiplier (error)       1          16.069           0.0001\n",
      "Robust LM (error)                 1           6.237           0.0125\n",
      "Lagrange Multiplier (SARMA)       2          26.699           0.0000\n",
      "\n",
      "================================ END OF REPORT =====================================\n"
     ]
    }
   ],
   "source": [
    "ols1b = spreg.OLS(y3, x1, w=wq, name_y=y_name3, name_x=x_names1, name_ds=ds_name,\n",
    "                 spat_diag=True, moran=True, name_w=w_name)\n",
    "print(ols1b.summary)"
   ]
  },
  {
   "cell_type": "code",
   "execution_count": 64,
   "id": "63ac7593",
   "metadata": {},
   "outputs": [
    {
     "name": "stdout",
     "output_type": "stream",
     "text": [
      "REGRESSION\n",
      "----------\n",
      "SUMMARY OF OUTPUT: ORDINARY LEAST SQUARES\n",
      "-----------------------------------------\n",
      "Data set            :      od_df2\n",
      "Weights matrix      :    q_order1\n",
      "Dependent Variable  :     od_2021                Number of Observations:          77\n",
      "Mean dependent var  :      0.0574                Number of Variables   :          13\n",
      "S.D. dependent var  :      0.0830                Degrees of Freedom    :          64\n",
      "R-squared           :      0.6205\n",
      "Adjusted R-squared  :      0.5493\n",
      "Sum squared residual:       0.199                F-statistic           :      8.7202\n",
      "Sigma-square        :       0.003                Prob(F-statistic)     :   1.511e-09\n",
      "S.E. of regression  :       0.056                Log likelihood        :     120.157\n",
      "Sigma-square ML     :       0.003                Akaike info criterion :    -214.314\n",
      "S.E of regression ML:      0.0508                Schwarz criterion     :    -183.844\n",
      "\n",
      "------------------------------------------------------------------------------------\n",
      "            Variable     Coefficient       Std.Error     t-Statistic     Probability\n",
      "------------------------------------------------------------------------------------\n",
      "            CONSTANT      -0.0027962       0.3123383      -0.0089525       0.9928849\n",
      "         bupren_area       0.1536160       0.2189487       0.7016075       0.4854675\n",
      "        % in Poverty       0.0023309       0.0014710       1.5845889       0.1179891\n",
      "            % Female      -0.0074133       0.0035213      -2.1052507       0.0391997\n",
      "             % Black       0.0029475       0.0009459       3.1160908       0.0027432\n",
      "          % Hispanic       0.0003532       0.0008543       0.4134748       0.6806410\n",
      "             % White       0.0033088       0.0011718       2.8237211       0.0063206\n",
      "          % Aged 65+      -0.0002493       0.0019289      -0.1292524       0.8975633\n",
      "      Overall Unemp.       0.0007025       0.0028660       0.2451066       0.8071581\n",
      "     % no HS Diploma       0.0087134       0.0027014       3.2255199       0.0019821\n",
      "         % HS or GED       0.0021980       0.0031148       0.7056589       0.4829610\n",
      "    % Bachelors Deg.       0.0014099       0.0016451       0.8570207       0.3946313\n",
      "      Uninsured Rate      -0.0046659       0.0022468      -2.0766886       0.0418503\n",
      "------------------------------------------------------------------------------------\n",
      "\n",
      "REGRESSION DIAGNOSTICS\n",
      "MULTICOLLINEARITY CONDITION NUMBER          173.687\n",
      "\n",
      "TEST ON NORMALITY OF ERRORS\n",
      "TEST                             DF        VALUE           PROB\n",
      "Jarque-Bera                       2         207.867           0.0000\n",
      "\n",
      "DIAGNOSTICS FOR HETEROSKEDASTICITY\n",
      "RANDOM COEFFICIENTS\n",
      "TEST                             DF        VALUE           PROB\n",
      "Breusch-Pagan test               12         142.981           0.0000\n",
      "Koenker-Bassett test             12          30.482           0.0024\n",
      "\n",
      "DIAGNOSTICS FOR SPATIAL DEPENDENCE\n",
      "TEST                           MI/DF       VALUE           PROB\n",
      "Moran's I (error)              0.1866         3.873           0.0001\n",
      "Lagrange Multiplier (lag)         1           7.617           0.0058\n",
      "Robust LM (lag)                   1           1.411           0.2349\n",
      "Lagrange Multiplier (error)       1           6.294           0.0121\n",
      "Robust LM (error)                 1           0.089           0.7660\n",
      "Lagrange Multiplier (SARMA)       2           7.705           0.0212\n",
      "\n",
      "================================ END OF REPORT =====================================\n"
     ]
    }
   ],
   "source": [
    "ols2b = spreg.OLS(y3, x2, w=wq, name_y=y_name3, name_x=x_names2, name_ds=ds_name,\n",
    "                 spat_diag=True, moran=True, name_w=w_name)\n",
    "print(ols2b.summary)"
   ]
  },
  {
   "cell_type": "markdown",
   "id": "5472acec",
   "metadata": {},
   "source": [
    "There appears to be strong evidence of spatial misspecification from the Moran's I statistic. \n",
    "\n",
    "Robust LM Lag statistic remains signfiicant so I will proceed to run a spatial lag model. Multicollinearity is high and I should probably remove some of the explanatory variables. "
   ]
  },
  {
   "cell_type": "markdown",
   "id": "b1deebe2",
   "metadata": {},
   "source": [
    "## Spatial Regimes"
   ]
  },
  {
   "cell_type": "markdown",
   "id": "1006ca73",
   "metadata": {},
   "source": [
    "For the regimes variable:"
   ]
  },
  {
   "cell_type": "code",
   "execution_count": 65,
   "id": "4bf5333b",
   "metadata": {},
   "outputs": [
    {
     "data": {
      "text/plain": [
       "list"
      ]
     },
     "execution_count": 65,
     "metadata": {},
     "output_type": "execute_result"
    }
   ],
   "source": [
    "#rvar = od_df2['region']\n",
    "#od_df2 = od_df2.astype({rvar:'int'})\n",
    "regimes = od_df2['region'].tolist()\n",
    "type(regimes)"
   ]
  },
  {
   "cell_type": "markdown",
   "id": "2ba59334",
   "metadata": {},
   "source": [
    "### Spatially Lagged Explanatory Variables\n",
    "\n",
    "As illustrated before, in order to implement the Spatial Durbin model, we will need to include the spatially lagged explanatory variables (WX) in the regression specification and compute the second order spatially lagged explanatory variables (W2X) as instruments.\n",
    "\n",
    "We accomplish this in the same way as before, using the `weights.lag_spatial` function in `libpysal`."
   ]
  },
  {
   "cell_type": "code",
   "execution_count": 66,
   "id": "ab1aa89f",
   "metadata": {},
   "outputs": [
    {
     "data": {
      "text/plain": [
       "array([[0.02797203, 0.01193153],\n",
       "       [0.01434103, 0.02289167],\n",
       "       [0.04521818, 0.01364934]])"
      ]
     },
     "execution_count": 66,
     "metadata": {},
     "output_type": "execute_result"
    }
   ],
   "source": [
    "WX_1 = libpysal.weights.lag_spatial(wq,x1)\n",
    "xdur_1 = np.hstack((x1,WX_1))\n",
    "xdur_1[0:3,]"
   ]
  },
  {
   "cell_type": "code",
   "execution_count": 67,
   "id": "3764bdf2",
   "metadata": {},
   "outputs": [],
   "source": [
    "WX_2 = libpysal.weights.lag_spatial(wq,x2)\n",
    "xdur_2 = np.hstack((x2,WX_2))\n",
    "#xdur_2[0:3,]"
   ]
  },
  {
   "cell_type": "code",
   "execution_count": 68,
   "id": "ff536407",
   "metadata": {},
   "outputs": [
    {
     "data": {
      "text/plain": [
       "['bupren_area', 'W_bupren_area']"
      ]
     },
     "execution_count": 68,
     "metadata": {},
     "output_type": "execute_result"
    }
   ],
   "source": [
    "wnames_1 = []\n",
    "for j in x_names1:\n",
    "    wnames_1.append(\"W_\" + j)\n",
    "dur_names_1 = x_names1 + wnames_1\n",
    "dur_names_1"
   ]
  },
  {
   "cell_type": "code",
   "execution_count": 69,
   "id": "595ec6ba",
   "metadata": {
    "scrolled": true
   },
   "outputs": [],
   "source": [
    "wnames_2 = []\n",
    "for j in x_names2:\n",
    "    wnames_2.append(\"W_\" + j)\n",
    "dur_names_2 = x_names2 + wnames_2\n",
    "#dur_names_2"
   ]
  },
  {
   "cell_type": "markdown",
   "id": "20b348f7",
   "metadata": {},
   "source": [
    "### Spatially Lagged Dependent Variable\n",
    "\n",
    "We will also need to explicitly include the lagged dependent variable as an endogenous variable."
   ]
  },
  {
   "cell_type": "code",
   "execution_count": 70,
   "id": "05a8249d",
   "metadata": {},
   "outputs": [
    {
     "data": {
      "text/plain": [
       "(77, 1)"
      ]
     },
     "execution_count": 70,
     "metadata": {},
     "output_type": "execute_result"
    }
   ],
   "source": [
    "Wy_1 = libpysal.weights.lag_spatial(wq,y1).reshape(-1,1)\n",
    "yend_name_1 = [\"Wy_1\"]\n",
    "Wy_1.shape"
   ]
  },
  {
   "cell_type": "code",
   "execution_count": 71,
   "id": "274237ab",
   "metadata": {},
   "outputs": [
    {
     "data": {
      "text/plain": [
       "(77, 1)"
      ]
     },
     "execution_count": 71,
     "metadata": {},
     "output_type": "execute_result"
    }
   ],
   "source": [
    "Wy_2 = libpysal.weights.lag_spatial(wq,y2).reshape(-1,1)\n",
    "yend_name_2 = [\"Wy_2\"]\n",
    "Wy_2.shape"
   ]
  },
  {
   "cell_type": "code",
   "execution_count": 72,
   "id": "6296ba83",
   "metadata": {},
   "outputs": [
    {
     "data": {
      "text/plain": [
       "(77, 1)"
      ]
     },
     "execution_count": 72,
     "metadata": {},
     "output_type": "execute_result"
    }
   ],
   "source": [
    "Wy_3 = libpysal.weights.lag_spatial(wq,y3).reshape(-1,1)\n",
    "yend_name_3 = [\"Wy_3\"]\n",
    "Wy_3.shape"
   ]
  },
  {
   "cell_type": "markdown",
   "id": "accdf942",
   "metadata": {},
   "source": [
    "### Additional Instruments\n",
    "\n",
    "Since Wy is an endogenous variable and WX is already included as an exogenous \n",
    "variable in the spatial Durbin specification, we also need second and third order\n",
    "spatial lags of the explanatory variables."
   ]
  },
  {
   "cell_type": "code",
   "execution_count": 73,
   "id": "4a06a6e0",
   "metadata": {},
   "outputs": [
    {
     "data": {
      "text/plain": [
       "['W2_bupren_area']"
      ]
     },
     "execution_count": 73,
     "metadata": {},
     "output_type": "execute_result"
    }
   ],
   "source": [
    "W2X_1 = libpysal.weights.lag_spatial(wq,WX_1)\n",
    "w2names_1 = []\n",
    "for j in x_names1:\n",
    "    w2names_1.append(\"W2_\" + j)\n",
    "w2names_1"
   ]
  },
  {
   "cell_type": "code",
   "execution_count": 74,
   "id": "4db51ba1",
   "metadata": {},
   "outputs": [],
   "source": [
    "W2X_2 = libpysal.weights.lag_spatial(wq,WX_2)\n",
    "w2names_2 = []\n",
    "for j in x_names2:\n",
    "    w2names_2.append(\"W2_\" + j)\n",
    "#w2names_2"
   ]
  },
  {
   "cell_type": "code",
   "execution_count": 75,
   "id": "64a55b0e",
   "metadata": {},
   "outputs": [],
   "source": [
    "wwwx = libpysal.weights.lag_spatial(wq,W2X_2)\n",
    "W3X = np.hstack((W2X_2,wwwx))\n",
    "w3names = []\n",
    "for j in x_names2:\n",
    "    w3names.append(\"W3_\" + j)\n",
    "inst3names = w2names_2 + w3names\n",
    "#inst3names"
   ]
  },
  {
   "cell_type": "code",
   "execution_count": 76,
   "id": "dd2ac1b0",
   "metadata": {},
   "outputs": [],
   "source": [
    "#od_df2_gdf = gpd.GeoDataFrame(od_df2, geometry='geometry')\n",
    "#od_df2.plot(column='region',categorical=True,figsize=(6,6),legend=True)\n",
    "#od_df2.plot('region', figsize=(6,6),legend=True)"
   ]
  },
  {
   "cell_type": "code",
   "execution_count": 77,
   "id": "0024be27",
   "metadata": {
    "scrolled": false
   },
   "outputs": [
    {
     "name": "stdout",
     "output_type": "stream",
     "text": [
      "0.14252376556396484\n",
      "REGRESSION\n",
      "----------\n",
      "\n",
      "SUMMARY OF OUTPUT: ORDINARY LEAST SQUARES ESTIMATION - REGIME 1\n",
      "---------------------------------------------------------------\n",
      "Data set            :      od_df2\n",
      "Weights matrix      :    q_order1\n",
      "Dependent Variable  :   1_od_2021                Number of Observations:          12\n",
      "Mean dependent var  :      0.0450                Number of Variables   :           2\n",
      "S.D. dependent var  :      0.0290                Degrees of Freedom    :          10\n",
      "R-squared           :      0.0048\n",
      "Adjusted R-squared  :     -0.0947\n",
      "Sum squared residual:       0.009                F-statistic           :      0.0487\n",
      "Sigma-square        :       0.001                Prob(F-statistic)     :      0.8298\n",
      "S.E. of regression  :       0.030                Log likelihood        :      25.991\n",
      "Sigma-square ML     :       0.001                Akaike info criterion :     -47.982\n",
      "S.E of regression ML:      0.0277                Schwarz criterion     :     -47.012\n",
      "\n",
      "------------------------------------------------------------------------------------\n",
      "            Variable     Coefficient       Std.Error     t-Statistic     Probability\n",
      "------------------------------------------------------------------------------------\n",
      "          1_CONSTANT       0.0432849       0.0117022       3.6988715       0.0041162\n",
      "       1_bupren_area       0.2968962       1.3455516       0.2206502       0.8298046\n",
      "------------------------------------------------------------------------------------\n",
      "Regimes variable: unknown\n",
      "\n",
      "REGRESSION DIAGNOSTICS\n",
      "MULTICOLLINEARITY CONDITION NUMBER            2.217\n",
      "\n",
      "TEST ON NORMALITY OF ERRORS\n",
      "TEST                             DF        VALUE           PROB\n",
      "Jarque-Bera                       2           1.334           0.5132\n",
      "\n",
      "DIAGNOSTICS FOR HETEROSKEDASTICITY\n",
      "RANDOM COEFFICIENTS\n",
      "TEST                             DF        VALUE           PROB\n",
      "Breusch-Pagan test                1           0.683           0.4086\n",
      "Koenker-Bassett test              1           1.777           0.1825\n",
      "\n",
      "DIAGNOSTICS FOR SPATIAL DEPENDENCE\n",
      "TEST                           MI/DF       VALUE           PROB\n",
      "Lagrange Multiplier (lag)         1           0.446           0.5042\n",
      "Robust LM (lag)                   1           0.947           0.3305\n",
      "Lagrange Multiplier (error)       1           0.494           0.4823\n",
      "Robust LM (error)                 1           0.995           0.3186\n",
      "Lagrange Multiplier (SARMA)       2           1.441           0.4866\n",
      "\n",
      "----------\n",
      "\n",
      "SUMMARY OF OUTPUT: ORDINARY LEAST SQUARES ESTIMATION - REGIME 2\n",
      "---------------------------------------------------------------\n",
      "Data set            :      od_df2\n",
      "Weights matrix      :    q_order1\n",
      "Dependent Variable  :   2_od_2021                Number of Observations:          15\n",
      "Mean dependent var  :      0.0195                Number of Variables   :           2\n",
      "S.D. dependent var  :      0.0126                Degrees of Freedom    :          13\n",
      "R-squared           :      0.0927\n",
      "Adjusted R-squared  :      0.0229\n",
      "Sum squared residual:       0.002                F-statistic           :      1.3284\n",
      "Sigma-square        :       0.000                Prob(F-statistic)     :      0.2698\n",
      "S.E. of regression  :       0.012                Log likelihood        :      45.532\n",
      "Sigma-square ML     :       0.000                Akaike info criterion :     -87.064\n",
      "S.E of regression ML:      0.0116                Schwarz criterion     :     -85.648\n",
      "\n",
      "------------------------------------------------------------------------------------\n",
      "            Variable     Coefficient       Std.Error     t-Statistic     Probability\n",
      "------------------------------------------------------------------------------------\n",
      "          2_CONSTANT       0.0157583       0.0045470       3.4656644       0.0041805\n",
      "       2_bupren_area       0.8077077       0.7007935       1.1525618       0.2698441\n",
      "------------------------------------------------------------------------------------\n",
      "Regimes variable: unknown\n",
      "\n",
      "REGRESSION DIAGNOSTICS\n",
      "MULTICOLLINEARITY CONDITION NUMBER            2.404\n",
      "\n",
      "TEST ON NORMALITY OF ERRORS\n",
      "TEST                             DF        VALUE           PROB\n",
      "Jarque-Bera                       2           0.089           0.9563\n",
      "\n",
      "DIAGNOSTICS FOR HETEROSKEDASTICITY\n",
      "RANDOM COEFFICIENTS\n",
      "TEST                             DF        VALUE           PROB\n",
      "Breusch-Pagan test                1           0.297           0.5860\n",
      "Koenker-Bassett test              1           0.356           0.5509\n",
      "\n",
      "DIAGNOSTICS FOR SPATIAL DEPENDENCE\n",
      "TEST                           MI/DF       VALUE           PROB\n",
      "Lagrange Multiplier (lag)         1           0.526           0.4685\n",
      "Robust LM (lag)                   1           7.355           0.0067\n",
      "Lagrange Multiplier (error)       1           1.708           0.1912\n",
      "Robust LM (error)                 1           8.538           0.0035\n",
      "Lagrange Multiplier (SARMA)       2           9.064           0.0108\n",
      "\n",
      "----------\n",
      "\n",
      "SUMMARY OF OUTPUT: ORDINARY LEAST SQUARES ESTIMATION - REGIME 3\n",
      "---------------------------------------------------------------\n",
      "Data set            :      od_df2\n",
      "Weights matrix      :    q_order1\n",
      "Dependent Variable  :   3_od_2021                Number of Observations:           3\n",
      "Mean dependent var  :      0.0444                Number of Variables   :           2\n",
      "S.D. dependent var  :      0.0220                Degrees of Freedom    :           1\n",
      "R-squared           :      0.2163\n",
      "Adjusted R-squared  :     -0.5674\n",
      "Sum squared residual:       0.001                F-statistic           :      0.2760\n",
      "Sigma-square        :       0.001                Prob(F-statistic)     :      0.6921\n",
      "S.E. of regression  :       0.028                Log likelihood        :       8.162\n",
      "Sigma-square ML     :       0.000                Akaike info criterion :     -12.324\n",
      "S.E of regression ML:      0.0159                Schwarz criterion     :     -14.127\n",
      "\n",
      "------------------------------------------------------------------------------------\n",
      "            Variable     Coefficient       Std.Error     t-Statistic     Probability\n",
      "------------------------------------------------------------------------------------\n",
      "          3_CONSTANT       0.0324980       0.0276918       1.1735582       0.4492737\n",
      "       3_bupren_area       0.4358526       0.8296657       0.5253352       0.6920608\n",
      "------------------------------------------------------------------------------------\n",
      "Regimes variable: unknown\n",
      "\n",
      "REGRESSION DIAGNOSTICS\n",
      "MULTICOLLINEARITY CONDITION NUMBER            3.161\n",
      "\n",
      "TEST ON NORMALITY OF ERRORS\n",
      "TEST                             DF        VALUE           PROB\n",
      "Jarque-Bera                       2           0.531           0.7667\n",
      "\n",
      "DIAGNOSTICS FOR HETEROSKEDASTICITY\n",
      "RANDOM COEFFICIENTS\n",
      "TEST                             DF        VALUE           PROB\n",
      "Breusch-Pagan test                1           0.045           0.8314\n",
      "Koenker-Bassett test              1           0.181           0.6703\n",
      "\n",
      "DIAGNOSTICS FOR SPATIAL DEPENDENCE\n",
      "TEST                           MI/DF       VALUE           PROB\n",
      "Lagrange Multiplier (lag)         1           1.997           0.1577\n",
      "Robust LM (lag)                   1           3.000           0.0833\n",
      "Lagrange Multiplier (error)       1           2.000           0.1573\n",
      "Robust LM (error)                 1           3.003           0.0831\n",
      "Lagrange Multiplier (SARMA)       2           5.000           0.0821\n",
      "\n",
      "----------\n",
      "\n",
      "SUMMARY OF OUTPUT: ORDINARY LEAST SQUARES ESTIMATION - REGIME 4\n",
      "---------------------------------------------------------------\n",
      "Data set            :      od_df2\n",
      "Weights matrix      :    q_order1\n",
      "Dependent Variable  :   4_od_2021                Number of Observations:          16\n",
      "Mean dependent var  :      0.0633                Number of Variables   :           2\n",
      "S.D. dependent var  :      0.0939                Degrees of Freedom    :          14\n",
      "R-squared           :      0.7596\n",
      "Adjusted R-squared  :      0.7424\n",
      "Sum squared residual:       0.032                F-statistic           :     44.2352\n",
      "Sigma-square        :       0.002                Prob(F-statistic)     :   1.094e-05\n",
      "S.E. of regression  :       0.048                Log likelihood        :      27.072\n",
      "Sigma-square ML     :       0.002                Akaike info criterion :     -50.143\n",
      "S.E of regression ML:      0.0446                Schwarz criterion     :     -48.598\n",
      "\n",
      "------------------------------------------------------------------------------------\n",
      "            Variable     Coefficient       Std.Error     t-Statistic     Probability\n",
      "------------------------------------------------------------------------------------\n",
      "          4_CONSTANT       0.0115050       0.0142333       0.8083174       0.4324294\n",
      "       4_bupren_area       6.1283248       0.9214201       6.6509565       0.0000109\n",
      "------------------------------------------------------------------------------------\n",
      "Regimes variable: unknown\n",
      "\n",
      "REGRESSION DIAGNOSTICS\n",
      "MULTICOLLINEARITY CONDITION NUMBER            1.850\n",
      "\n",
      "TEST ON NORMALITY OF ERRORS\n",
      "TEST                             DF        VALUE           PROB\n",
      "Jarque-Bera                       2           6.502           0.0387\n",
      "\n",
      "DIAGNOSTICS FOR HETEROSKEDASTICITY\n",
      "RANDOM COEFFICIENTS\n",
      "TEST                             DF        VALUE           PROB\n",
      "Breusch-Pagan test                1           2.759           0.0967\n",
      "Koenker-Bassett test              1           1.451           0.2284\n",
      "\n",
      "DIAGNOSTICS FOR SPATIAL DEPENDENCE\n",
      "TEST                           MI/DF       VALUE           PROB\n",
      "Lagrange Multiplier (lag)         1           0.111           0.7394\n",
      "Robust LM (lag)                   1           0.525           0.4686\n",
      "Lagrange Multiplier (error)       1           1.812           0.1783\n",
      "Robust LM (error)                 1           2.226           0.1357\n",
      "Lagrange Multiplier (SARMA)       2           2.337           0.3108\n",
      "\n",
      "----------\n",
      "\n",
      "SUMMARY OF OUTPUT: ORDINARY LEAST SQUARES ESTIMATION - REGIME 5\n",
      "---------------------------------------------------------------\n",
      "Data set            :      od_df2\n",
      "Weights matrix      :    q_order1\n",
      "Dependent Variable  :   5_od_2021                Number of Observations:           9\n",
      "Mean dependent var  :      0.1656                Number of Variables   :           2\n",
      "S.D. dependent var  :      0.1675                Degrees of Freedom    :           7\n",
      "R-squared           :      0.0352\n",
      "Adjusted R-squared  :     -0.1026\n",
      "Sum squared residual:       0.217                F-statistic           :      0.2554\n",
      "Sigma-square        :       0.031                Prob(F-statistic)     :      0.6288\n",
      "S.E. of regression  :       0.176                Log likelihood        :       4.001\n",
      "Sigma-square ML     :       0.024                Akaike info criterion :      -4.003\n",
      "S.E of regression ML:      0.1551                Schwarz criterion     :      -3.608\n",
      "\n",
      "------------------------------------------------------------------------------------\n",
      "            Variable     Coefficient       Std.Error     t-Statistic     Probability\n",
      "------------------------------------------------------------------------------------\n",
      "          5_CONSTANT       0.1905247       0.0766478       2.4857155       0.0418583\n",
      "       5_bupren_area      -0.4165226       0.8241691      -0.5053849       0.6288092\n",
      "------------------------------------------------------------------------------------\n",
      "Regimes variable: unknown\n",
      "\n",
      "REGRESSION DIAGNOSTICS\n",
      "MULTICOLLINEARITY CONDITION NUMBER            2.149\n",
      "\n",
      "TEST ON NORMALITY OF ERRORS\n",
      "TEST                             DF        VALUE           PROB\n",
      "Jarque-Bera                       2           1.799           0.4067\n",
      "\n",
      "DIAGNOSTICS FOR HETEROSKEDASTICITY\n",
      "RANDOM COEFFICIENTS\n",
      "TEST                             DF        VALUE           PROB\n",
      "Breusch-Pagan test                1           1.082           0.2984\n",
      "Koenker-Bassett test              1           0.996           0.3183\n",
      "\n",
      "DIAGNOSTICS FOR SPATIAL DEPENDENCE\n",
      "TEST                           MI/DF       VALUE           PROB\n",
      "Lagrange Multiplier (lag)         1           0.210           0.6470\n",
      "Robust LM (lag)                   1           1.072           0.3005\n",
      "Lagrange Multiplier (error)       1           0.126           0.7221\n",
      "Robust LM (error)                 1           0.989           0.3201\n",
      "Lagrange Multiplier (SARMA)       2           1.198           0.5492\n",
      "\n",
      "----------\n",
      "\n",
      "SUMMARY OF OUTPUT: ORDINARY LEAST SQUARES ESTIMATION - REGIME 6\n",
      "---------------------------------------------------------------\n",
      "Data set            :      od_df2\n",
      "Weights matrix      :    q_order1\n",
      "Dependent Variable  :   6_od_2021                Number of Observations:          14\n",
      "Mean dependent var  :      0.0570                Number of Variables   :           2\n",
      "S.D. dependent var  :      0.0294                Degrees of Freedom    :          12\n",
      "R-squared           :      0.1088\n",
      "Adjusted R-squared  :      0.0345\n",
      "Sum squared residual:       0.010                F-statistic           :      1.4645\n",
      "Sigma-square        :       0.001                Prob(F-statistic)     :      0.2495\n",
      "S.E. of regression  :       0.029                Log likelihood        :      30.815\n",
      "Sigma-square ML     :       0.001                Akaike info criterion :     -57.630\n",
      "S.E of regression ML:      0.0268                Schwarz criterion     :     -56.352\n",
      "\n",
      "------------------------------------------------------------------------------------\n",
      "            Variable     Coefficient       Std.Error     t-Statistic     Probability\n",
      "------------------------------------------------------------------------------------\n",
      "          6_CONSTANT       0.0637916       0.0095402       6.6866099       0.0000224\n",
      "       6_bupren_area      -0.3387826       0.2799453      -1.2101741       0.2495110\n",
      "------------------------------------------------------------------------------------\n",
      "Regimes variable: unknown\n",
      "\n",
      "REGRESSION DIAGNOSTICS\n",
      "MULTICOLLINEARITY CONDITION NUMBER            1.957\n",
      "\n",
      "TEST ON NORMALITY OF ERRORS\n",
      "TEST                             DF        VALUE           PROB\n",
      "Jarque-Bera                       2           0.509           0.7753\n",
      "\n",
      "DIAGNOSTICS FOR HETEROSKEDASTICITY\n",
      "RANDOM COEFFICIENTS\n",
      "TEST                             DF        VALUE           PROB\n",
      "Breusch-Pagan test                1           0.590           0.4422\n",
      "Koenker-Bassett test              1           0.989           0.3200\n",
      "\n",
      "DIAGNOSTICS FOR SPATIAL DEPENDENCE\n",
      "TEST                           MI/DF       VALUE           PROB\n",
      "Lagrange Multiplier (lag)         1           0.338           0.5612\n",
      "Robust LM (lag)                   1           0.091           0.7625\n",
      "Lagrange Multiplier (error)       1           0.428           0.5132\n",
      "Robust LM (error)                 1           0.181           0.6702\n",
      "Lagrange Multiplier (SARMA)       2           0.519           0.7715\n",
      "\n",
      "----------\n",
      "\n",
      "SUMMARY OF OUTPUT: ORDINARY LEAST SQUARES ESTIMATION - REGIME 7\n",
      "---------------------------------------------------------------\n",
      "Data set            :      od_df2\n",
      "Weights matrix      :    q_order1\n",
      "Dependent Variable  :   7_od_2021                Number of Observations:           8\n",
      "Mean dependent var  :      0.0187                Number of Variables   :           2\n",
      "S.D. dependent var  :      0.0164                Degrees of Freedom    :           6\n",
      "R-squared           :      0.0080\n",
      "Adjusted R-squared  :     -0.1573\n",
      "Sum squared residual:       0.002                F-statistic           :      0.0484\n",
      "Sigma-square        :       0.000                Prob(F-statistic)     :      0.8331\n",
      "S.E. of regression  :       0.018                Log likelihood        :      22.097\n",
      "Sigma-square ML     :       0.000                Akaike info criterion :     -40.195\n",
      "S.E of regression ML:      0.0153                Schwarz criterion     :     -40.036\n",
      "\n",
      "------------------------------------------------------------------------------------\n",
      "            Variable     Coefficient       Std.Error     t-Statistic     Probability\n",
      "------------------------------------------------------------------------------------\n",
      "          7_CONSTANT       0.0168238       0.0106445       1.5805108       0.1650724\n",
      "       7_bupren_area       0.1206685       0.5484313       0.2200248       0.8331469\n",
      "------------------------------------------------------------------------------------\n",
      "Regimes variable: unknown\n",
      "\n",
      "REGRESSION DIAGNOSTICS\n",
      "MULTICOLLINEARITY CONDITION NUMBER            3.089\n",
      "\n",
      "TEST ON NORMALITY OF ERRORS\n",
      "TEST                             DF        VALUE           PROB\n",
      "Jarque-Bera                       2           4.438           0.1087\n",
      "\n",
      "DIAGNOSTICS FOR HETEROSKEDASTICITY\n",
      "RANDOM COEFFICIENTS\n",
      "TEST                             DF        VALUE           PROB\n",
      "Breusch-Pagan test                1           0.392           0.5311\n",
      "Koenker-Bassett test              1           0.220           0.6391\n",
      "\n",
      "DIAGNOSTICS FOR SPATIAL DEPENDENCE\n",
      "TEST                           MI/DF       VALUE           PROB\n",
      "Lagrange Multiplier (lag)         1           0.109           0.7409\n",
      "Robust LM (lag)                   1           6.724           0.0095\n",
      "Lagrange Multiplier (error)       1           0.234           0.6286\n",
      "Robust LM (error)                 1           6.849           0.0089\n",
      "Lagrange Multiplier (SARMA)       2           6.958           0.0308\n",
      "\n",
      "\n",
      "REGIMES DIAGNOSTICS - CHOW TEST\n",
      "                 VARIABLE        DF        VALUE           PROB\n",
      "                 CONSTANT         6          29.330           0.0001\n",
      "              bupren_area         6          46.503           0.0000\n",
      "              Global test        12          82.773           0.0000\n",
      "\n",
      "DIAGNOSTICS FOR GLOBAL SPATIAL DEPENDENCE\n",
      "Residuals are treated as homoskedastic for the purpose of these tests\n",
      "TEST                           MI/DF       VALUE           PROB\n",
      "Lagrange Multiplier (lag)         1           8.296           0.0040\n",
      "Robust LM (lag)                   1          21.170           0.0000\n",
      "Lagrange Multiplier (error)       1           0.483           0.4870\n",
      "Robust LM (error)                 1          13.358           0.0003\n",
      "Lagrange Multiplier (SARMA)       2          21.653           0.0000\n",
      "\n",
      "================================ END OF REPORT =====================================\n"
     ]
    }
   ],
   "source": [
    "t0 = time.time()\n",
    "reg_1_regime = spreg.OLS_Regimes(y3, x1, regimes, w=wq, spat_diag=True,\n",
    "                        name_y=y_name3, name_x=x_names1, #name_regimes=rvar,\n",
    "                        name_w=w_name,name_ds=ds_name)\n",
    "t1 = time.time()\n",
    "print(t1-t0)\n",
    "print(reg_1_regime.summary)"
   ]
  },
  {
   "cell_type": "code",
   "execution_count": 78,
   "id": "0cc8634e",
   "metadata": {},
   "outputs": [
    {
     "ename": "Exception",
     "evalue": "There aren't enough observations for the given number of regimes and variables. Please check your regimes variable.",
     "output_type": "error",
     "traceback": [
      "\u001b[0;31m---------------------------------------------------------------------------\u001b[0m",
      "\u001b[0;31mException\u001b[0m                                 Traceback (most recent call last)",
      "Cell \u001b[0;32mIn[78], line 2\u001b[0m\n\u001b[1;32m      1\u001b[0m t0 \u001b[38;5;241m=\u001b[39m time\u001b[38;5;241m.\u001b[39mtime()\n\u001b[0;32m----> 2\u001b[0m reg_2_regime \u001b[38;5;241m=\u001b[39m \u001b[43mspreg\u001b[49m\u001b[38;5;241;43m.\u001b[39;49m\u001b[43mOLS_Regimes\u001b[49m\u001b[43m(\u001b[49m\u001b[43my3\u001b[49m\u001b[43m,\u001b[49m\u001b[43m \u001b[49m\u001b[43mx2\u001b[49m\u001b[43m,\u001b[49m\u001b[43m \u001b[49m\u001b[43mregimes\u001b[49m\u001b[43m,\u001b[49m\u001b[43m \u001b[49m\u001b[43mw\u001b[49m\u001b[38;5;241;43m=\u001b[39;49m\u001b[43mwq\u001b[49m\u001b[43m,\u001b[49m\u001b[43m \u001b[49m\u001b[43mspat_diag\u001b[49m\u001b[38;5;241;43m=\u001b[39;49m\u001b[38;5;28;43;01mTrue\u001b[39;49;00m\u001b[43m,\u001b[49m\n\u001b[1;32m      3\u001b[0m \u001b[43m                        \u001b[49m\u001b[43mname_y\u001b[49m\u001b[38;5;241;43m=\u001b[39;49m\u001b[43my_name3\u001b[49m\u001b[43m,\u001b[49m\u001b[43m \u001b[49m\u001b[43mname_x\u001b[49m\u001b[38;5;241;43m=\u001b[39;49m\u001b[43mx_names2\u001b[49m\u001b[43m,\u001b[49m\u001b[43m \u001b[49m\u001b[38;5;66;43;03m#name_regimes=rvar,\u001b[39;49;00m\n\u001b[1;32m      4\u001b[0m \u001b[43m                        \u001b[49m\u001b[43mname_w\u001b[49m\u001b[38;5;241;43m=\u001b[39;49m\u001b[43mw_name\u001b[49m\u001b[43m,\u001b[49m\u001b[43mname_ds\u001b[49m\u001b[38;5;241;43m=\u001b[39;49m\u001b[43mds_name\u001b[49m\u001b[43m)\u001b[49m\n\u001b[1;32m      5\u001b[0m t1 \u001b[38;5;241m=\u001b[39m time\u001b[38;5;241m.\u001b[39mtime()\n\u001b[1;32m      6\u001b[0m \u001b[38;5;28mprint\u001b[39m(t1\u001b[38;5;241m-\u001b[39mt0)\n",
      "File \u001b[0;32m~/anaconda3/lib/python3.10/site-packages/spreg/ols_regimes.py:396\u001b[0m, in \u001b[0;36mOLS_Regimes.__init__\u001b[0;34m(self, y, x, regimes, w, robust, gwk, sig2n_k, nonspat_diag, spat_diag, moran, white_test, vm, constant_regi, cols2regi, regime_err_sep, cores, name_y, name_x, name_regimes, name_w, name_gwk, name_ds)\u001b[0m\n\u001b[1;32m    394\u001b[0m \u001b[38;5;28mself\u001b[39m\u001b[38;5;241m.\u001b[39mregimes_set \u001b[38;5;241m=\u001b[39m REGI\u001b[38;5;241m.\u001b[39m_get_regimes_set(regimes)\n\u001b[1;32m    395\u001b[0m \u001b[38;5;28mself\u001b[39m\u001b[38;5;241m.\u001b[39mregimes \u001b[38;5;241m=\u001b[39m regimes\n\u001b[0;32m--> 396\u001b[0m \u001b[43mUSER\u001b[49m\u001b[38;5;241;43m.\u001b[39;49m\u001b[43mcheck_regimes\u001b[49m\u001b[43m(\u001b[49m\u001b[38;5;28;43mself\u001b[39;49m\u001b[38;5;241;43m.\u001b[39;49m\u001b[43mregimes_set\u001b[49m\u001b[43m,\u001b[49m\u001b[43m \u001b[49m\u001b[38;5;28;43mself\u001b[39;49m\u001b[38;5;241;43m.\u001b[39;49m\u001b[43mn\u001b[49m\u001b[43m,\u001b[49m\u001b[43m \u001b[49m\u001b[43mx_constant\u001b[49m\u001b[38;5;241;43m.\u001b[39;49m\u001b[43mshape\u001b[49m\u001b[43m[\u001b[49m\u001b[38;5;241;43m1\u001b[39;49m\u001b[43m]\u001b[49m\u001b[43m)\u001b[49m\n\u001b[1;32m    397\u001b[0m \u001b[38;5;28;01mif\u001b[39;00m regime_err_sep \u001b[38;5;241m==\u001b[39m \u001b[38;5;28;01mTrue\u001b[39;00m \u001b[38;5;129;01mand\u001b[39;00m robust \u001b[38;5;241m==\u001b[39m \u001b[38;5;124m\"\u001b[39m\u001b[38;5;124mhac\u001b[39m\u001b[38;5;124m\"\u001b[39m:\n\u001b[1;32m    398\u001b[0m     set_warn(\n\u001b[1;32m    399\u001b[0m         \u001b[38;5;28mself\u001b[39m,\n\u001b[1;32m    400\u001b[0m         \u001b[38;5;124m\"\u001b[39m\u001b[38;5;124mError by regimes is incompatible with HAC estimation. Hence, error by regimes has been disabled for this model.\u001b[39m\u001b[38;5;124m\"\u001b[39m,\n\u001b[1;32m    401\u001b[0m     )\n",
      "File \u001b[0;32m~/anaconda3/lib/python3.10/site-packages/spreg/user_output.py:615\u001b[0m, in \u001b[0;36mcheck_regimes\u001b[0;34m(reg_set, N, K)\u001b[0m\n\u001b[1;32m    611\u001b[0m     \u001b[38;5;28;01mraise\u001b[39;00m \u001b[38;5;167;01mException\u001b[39;00m(\n\u001b[1;32m    612\u001b[0m         \u001b[38;5;124m\"\u001b[39m\u001b[38;5;124mAt least 2 regimes are needed to run regimes methods. Please check your regimes variable.\u001b[39m\u001b[38;5;124m\"\u001b[39m\n\u001b[1;32m    613\u001b[0m     )\n\u001b[1;32m    614\u001b[0m \u001b[38;5;28;01mif\u001b[39;00m \u001b[38;5;241m1.0\u001b[39m \u001b[38;5;241m*\u001b[39m N \u001b[38;5;241m/\u001b[39m \u001b[38;5;28mlen\u001b[39m(reg_set) \u001b[38;5;241m<\u001b[39m K \u001b[38;5;241m+\u001b[39m \u001b[38;5;241m1\u001b[39m:\n\u001b[0;32m--> 615\u001b[0m     \u001b[38;5;28;01mraise\u001b[39;00m \u001b[38;5;167;01mException\u001b[39;00m(\n\u001b[1;32m    616\u001b[0m         \u001b[38;5;124m\"\u001b[39m\u001b[38;5;124mThere aren\u001b[39m\u001b[38;5;124m'\u001b[39m\u001b[38;5;124mt enough observations for the given number of regimes and variables. Please check your regimes variable.\u001b[39m\u001b[38;5;124m\"\u001b[39m\n\u001b[1;32m    617\u001b[0m     )\n",
      "\u001b[0;31mException\u001b[0m: There aren't enough observations for the given number of regimes and variables. Please check your regimes variable."
     ]
    }
   ],
   "source": [
    "t0 = time.time()\n",
    "reg_2_regime = spreg.OLS_Regimes(y3, x2, regimes, w=wq, spat_diag=True,\n",
    "                        name_y=y_name3, name_x=x_names2, #name_regimes=rvar,\n",
    "                        name_w=w_name,name_ds=ds_name)\n",
    "t1 = time.time()\n",
    "print(t1-t0)\n",
    "print(reg_2_regime.summary)"
   ]
  },
  {
   "cell_type": "code",
   "execution_count": null,
   "id": "1494e265",
   "metadata": {},
   "outputs": [],
   "source": [
    "#spreg.ML_Lag_Regimes\n",
    "#spreg.ML_Error_Regimes"
   ]
  }
 ],
 "metadata": {
  "kernelspec": {
   "display_name": "Python 3 (ipykernel)",
   "language": "python",
   "name": "python3"
  },
  "language_info": {
   "codemirror_mode": {
    "name": "ipython",
    "version": 3
   },
   "file_extension": ".py",
   "mimetype": "text/x-python",
   "name": "python",
   "nbconvert_exporter": "python",
   "pygments_lexer": "ipython3",
   "version": "3.10.10"
  }
 },
 "nbformat": 4,
 "nbformat_minor": 5
}
