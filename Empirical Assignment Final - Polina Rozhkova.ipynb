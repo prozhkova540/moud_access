{
 "cells": [
  {
   "cell_type": "markdown",
   "id": "136be4e7",
   "metadata": {},
   "source": [
    "# Empirical Final Project"
   ]
  },
  {
   "cell_type": "markdown",
   "id": "ba7695a6",
   "metadata": {},
   "source": [
    "### SOCI-20559 Spatial Regression Analysis\n",
    "\n",
    "#### Empirical Assignment \n",
    "\n",
    "#### Polina Rozhkova\n",
    "\n",
    "#### 5/26/2023"
   ]
  },
  {
   "cell_type": "markdown",
   "id": "4f6b2ae8",
   "metadata": {},
   "source": [
    "The objective of this research is to assess the spatial relationship between the accessibility of opioid treatment programs/opioid treatment medication clinics and opioid overdose fatalities across Chicago’s 77 Community Areas. My key explanatory variable is the concentration of licensed buprenorphine providers in a community area. Additional factors that vary by environment and may affect the rate of fatal overdoses in given area include demographic data (race, percent of population living in poverty, median income, unemployment rate, percent of population that is uninsured) and accessibility to drugs such as narcan which I measure using the concentration of pharmacies in a community area. The dependent variable will be the overdose mortality rate per 100 (in an attempt to standardize across community areas that vary significantly in population size). \n",
    "\n",
    "I will start by assessing a simple OLS regression and running tests for spatial effects before moving to a regression with spatial dependence. Finally, I will explore the use of spatial regimes to address spatial heterogeneity. Related studies employ geographically weighted regression (when the dependent variable is mortality rate) and other studies have used: logistic regressions and Poisson regression model (where the dependent variable is binary and is composed of fatal and non-fatal overdoses). Ultimately, this is the main limitation of my project and while working with areal units was my best option given the data I'm working with, it greately reduced the degrees of freedom specifically when attempting to employ spatial regimes. "
   ]
  },
  {
   "cell_type": "markdown",
   "id": "f973273c",
   "metadata": {},
   "source": [
    "*Background*\n",
    "\n",
    "Intervention and public discourse around opioid-use disorder (and related substance use disorder) have led to the creation of the “opioid epidemic”, a public health emergency devastating every state in the nation, targeting predominantly white lower income Americans living in rural areas (Griffith et al. 2018, 843-844). We know however that heroin addiction and related substance-use disorders are far from a new phenomenon. As of late, it’s become evident (or more widely accepted) that prescription opioid overuse and abuse has impacted and continues to devastate individuals across racial and socioeconomic groups. Treatment options and care have been primarily targeted at white communities and have ignored the detrimental effects on Black people thereby reinforcing the racial inequities. \n",
    "Different groups require different and nuanced forms of treatment and support to live with addiction. Substance use disorder like most mental disorders can be the result of trauma, environment, negative or unlucky circumstances, and social pressures. Because addiction is so stratified, what may work for one individual might not work for another individual living in a different environment with less resources. One category of individuals with opioid use disorder may have greater access to prescription opiates, another category may be more likely to access “street drug” alternatives, and another relevant group is composed of individuals who are actively in treatment for opioid use disorder who then relapse due to decreased tolerance often resulting in death.\n"
   ]
  },
  {
   "cell_type": "code",
   "execution_count": 1,
   "id": "86b18b4c",
   "metadata": {},
   "outputs": [],
   "source": [
    "import numpy as np\n",
    "import pandas as pd\n",
    "import os\n",
    "os.environ['USE_PYGEOS'] = '0'\n",
    "import geopandas as gpd\n",
    "import libpysal\n",
    "import esda\n",
    "import spreg\n",
    "import time"
   ]
  },
  {
   "cell_type": "code",
   "execution_count": 2,
   "id": "c255fbb2",
   "metadata": {},
   "outputs": [
    {
     "data": {
      "text/plain": [
       "'1.3.2'"
      ]
     },
     "execution_count": 2,
     "metadata": {},
     "output_type": "execute_result"
    }
   ],
   "source": [
    "spreg.__version__"
   ]
  },
  {
   "cell_type": "code",
   "execution_count": 3,
   "id": "419d48d3",
   "metadata": {},
   "outputs": [],
   "source": [
    "pd.set_option('display.max_columns', None)"
   ]
  },
  {
   "cell_type": "code",
   "execution_count": 4,
   "id": "131409cb",
   "metadata": {},
   "outputs": [],
   "source": [
    "path = r'/Users/polinarozhkova/Desktop/GitHub/moud_access/data_final'"
   ]
  },
  {
   "cell_type": "code",
   "execution_count": 5,
   "id": "0b299fbc",
   "metadata": {},
   "outputs": [],
   "source": [
    "area_shp = gpd.read_file(os.path.join(path, 'Boundaries - Community Areas (current)',\n",
    "                        'geo_export_122237a7-de0c-463d-b81f-e6d53bf2e92a.shp'))\n",
    "od_df = pd.read_csv(os.path.join(path, 'chicago_overdose.csv'))\n",
    "dem_df = pd.read_csv(os.path.join(path, 'chicago_demograph.csv'))"
   ]
  },
  {
   "cell_type": "markdown",
   "id": "63bcbd88",
   "metadata": {},
   "source": [
    "### Load and Explore Data"
   ]
  },
  {
   "cell_type": "markdown",
   "id": "df4abef8",
   "metadata": {},
   "source": [
    "**od_df**: Opioid related mortality records are available through the Cook County Medical Examiner’s data portal including, individual characteristics, as well as the community area and coordinates of the deceased individual’s residence. I compiled buprenorphine provider location data from the Substance Abuse and Mental Health Services Administration and pharmacy location data from the Chicago city data portal. \n",
    "\n",
    "**dem_df**: The Heartland Alliance gathers demographic data from the American Community Survey on community health and economics which include race, population estimates for each community area, median household income, the percentage of individuals living in poverty, unemployment rate, and the percentage of uninsured population. While all these variables are related, and will likely present multicollinearity, they indicate slightly different characteristics that might be at play in different communities.  \n",
    "\n",
    "Community areas most impacted by opioid related overdose deaths are Austin, East Garfield, West Garfield, Humboldt Park, and North Lawndale. Though steadily increasing between 2019 and 2021, there seem to be no major changes in the areas that appear to be most heavily impacted (community areas with the highest rates of opioid related mortality in 2019 remain high through 2020 and 2021). For the project, I plan to use the 2021 opioid mortality data and demographic data from 2020—the findings for these years might not be generalizable but could be compared to cross sections from past years or future data.  "
   ]
  },
  {
   "cell_type": "code",
   "execution_count": 6,
   "id": "ebf97598",
   "metadata": {
    "scrolled": true
   },
   "outputs": [],
   "source": [
    "#area_shp.head()"
   ]
  },
  {
   "cell_type": "markdown",
   "id": "14055ded",
   "metadata": {},
   "source": [
    "Fatal overdoses, buprenorphone providers, and pharmacy locations were joined to the community area shapefile and aggregated."
   ]
  },
  {
   "cell_type": "code",
   "execution_count": 7,
   "id": "c4f69d4a",
   "metadata": {
    "scrolled": false
   },
   "outputs": [],
   "source": [
    "#od_df.head()"
   ]
  },
  {
   "cell_type": "code",
   "execution_count": 8,
   "id": "feacda93",
   "metadata": {
    "scrolled": false
   },
   "outputs": [
    {
     "data": {
      "text/html": [
       "<div>\n",
       "<style scoped>\n",
       "    .dataframe tbody tr th:only-of-type {\n",
       "        vertical-align: middle;\n",
       "    }\n",
       "\n",
       "    .dataframe tbody tr th {\n",
       "        vertical-align: top;\n",
       "    }\n",
       "\n",
       "    .dataframe thead th {\n",
       "        text-align: right;\n",
       "    }\n",
       "</style>\n",
       "<table border=\"1\" class=\"dataframe\">\n",
       "  <thead>\n",
       "    <tr style=\"text-align: right;\">\n",
       "      <th></th>\n",
       "      <th>area_num_1</th>\n",
       "      <th>region</th>\n",
       "      <th>shape_area</th>\n",
       "      <th>shape_len</th>\n",
       "      <th>od_2019</th>\n",
       "      <th>od_2020</th>\n",
       "      <th>od_2021</th>\n",
       "      <th>bupren_area</th>\n",
       "      <th>pharmacy_area</th>\n",
       "    </tr>\n",
       "  </thead>\n",
       "  <tbody>\n",
       "    <tr>\n",
       "      <th>count</th>\n",
       "      <td>77.000000</td>\n",
       "      <td>77.000000</td>\n",
       "      <td>7.700000e+01</td>\n",
       "      <td>77.000000</td>\n",
       "      <td>77.000000</td>\n",
       "      <td>77.000000</td>\n",
       "      <td>77.000000</td>\n",
       "      <td>77.000000</td>\n",
       "      <td>77.000000</td>\n",
       "    </tr>\n",
       "    <tr>\n",
       "      <th>mean</th>\n",
       "      <td>39.000000</td>\n",
       "      <td>3.896104</td>\n",
       "      <td>8.361453e+07</td>\n",
       "      <td>44397.606964</td>\n",
       "      <td>10.909091</td>\n",
       "      <td>15.857143</td>\n",
       "      <td>17.597403</td>\n",
       "      <td>7.181818</td>\n",
       "      <td>5.441558</td>\n",
       "    </tr>\n",
       "    <tr>\n",
       "      <th>std</th>\n",
       "      <td>22.371857</td>\n",
       "      <td>2.010397</td>\n",
       "      <td>5.494626e+07</td>\n",
       "      <td>20090.463816</td>\n",
       "      <td>13.945554</td>\n",
       "      <td>20.064839</td>\n",
       "      <td>22.436612</td>\n",
       "      <td>17.614832</td>\n",
       "      <td>5.608953</td>\n",
       "    </tr>\n",
       "    <tr>\n",
       "      <th>min</th>\n",
       "      <td>1.000000</td>\n",
       "      <td>1.000000</td>\n",
       "      <td>1.691396e+07</td>\n",
       "      <td>18137.944253</td>\n",
       "      <td>0.000000</td>\n",
       "      <td>0.000000</td>\n",
       "      <td>0.000000</td>\n",
       "      <td>0.000000</td>\n",
       "      <td>0.000000</td>\n",
       "    </tr>\n",
       "    <tr>\n",
       "      <th>25%</th>\n",
       "      <td>20.000000</td>\n",
       "      <td>2.000000</td>\n",
       "      <td>4.976964e+07</td>\n",
       "      <td>31948.598840</td>\n",
       "      <td>3.000000</td>\n",
       "      <td>4.000000</td>\n",
       "      <td>4.000000</td>\n",
       "      <td>0.000000</td>\n",
       "      <td>2.000000</td>\n",
       "    </tr>\n",
       "    <tr>\n",
       "      <th>50%</th>\n",
       "      <td>39.000000</td>\n",
       "      <td>4.000000</td>\n",
       "      <td>7.963575e+07</td>\n",
       "      <td>43229.372704</td>\n",
       "      <td>6.000000</td>\n",
       "      <td>9.000000</td>\n",
       "      <td>8.000000</td>\n",
       "      <td>2.000000</td>\n",
       "      <td>3.000000</td>\n",
       "    </tr>\n",
       "    <tr>\n",
       "      <th>75%</th>\n",
       "      <td>58.000000</td>\n",
       "      <td>6.000000</td>\n",
       "      <td>9.885317e+07</td>\n",
       "      <td>49478.427771</td>\n",
       "      <td>14.000000</td>\n",
       "      <td>18.000000</td>\n",
       "      <td>26.000000</td>\n",
       "      <td>5.000000</td>\n",
       "      <td>7.000000</td>\n",
       "    </tr>\n",
       "    <tr>\n",
       "      <th>max</th>\n",
       "      <td>77.000000</td>\n",
       "      <td>7.000000</td>\n",
       "      <td>3.718356e+08</td>\n",
       "      <td>173625.984660</td>\n",
       "      <td>88.000000</td>\n",
       "      <td>106.000000</td>\n",
       "      <td>138.000000</td>\n",
       "      <td>131.000000</td>\n",
       "      <td>25.000000</td>\n",
       "    </tr>\n",
       "  </tbody>\n",
       "</table>\n",
       "</div>"
      ],
      "text/plain": [
       "       area_num_1     region    shape_area      shape_len    od_2019   \n",
       "count   77.000000  77.000000  7.700000e+01      77.000000  77.000000  \\\n",
       "mean    39.000000   3.896104  8.361453e+07   44397.606964  10.909091   \n",
       "std     22.371857   2.010397  5.494626e+07   20090.463816  13.945554   \n",
       "min      1.000000   1.000000  1.691396e+07   18137.944253   0.000000   \n",
       "25%     20.000000   2.000000  4.976964e+07   31948.598840   3.000000   \n",
       "50%     39.000000   4.000000  7.963575e+07   43229.372704   6.000000   \n",
       "75%     58.000000   6.000000  9.885317e+07   49478.427771  14.000000   \n",
       "max     77.000000   7.000000  3.718356e+08  173625.984660  88.000000   \n",
       "\n",
       "          od_2020     od_2021  bupren_area  pharmacy_area  \n",
       "count   77.000000   77.000000    77.000000      77.000000  \n",
       "mean    15.857143   17.597403     7.181818       5.441558  \n",
       "std     20.064839   22.436612    17.614832       5.608953  \n",
       "min      0.000000    0.000000     0.000000       0.000000  \n",
       "25%      4.000000    4.000000     0.000000       2.000000  \n",
       "50%      9.000000    8.000000     2.000000       3.000000  \n",
       "75%     18.000000   26.000000     5.000000       7.000000  \n",
       "max    106.000000  138.000000   131.000000      25.000000  "
      ]
     },
     "execution_count": 8,
     "metadata": {},
     "output_type": "execute_result"
    }
   ],
   "source": [
    "od_df.describe()"
   ]
  },
  {
   "cell_type": "code",
   "execution_count": 9,
   "id": "8d4eeb52",
   "metadata": {
    "scrolled": false
   },
   "outputs": [],
   "source": [
    "#dem_df.head()"
   ]
  },
  {
   "cell_type": "code",
   "execution_count": 10,
   "id": "66c10530",
   "metadata": {
    "scrolled": true
   },
   "outputs": [
    {
     "data": {
      "text/html": [
       "<div>\n",
       "<style scoped>\n",
       "    .dataframe tbody tr th:only-of-type {\n",
       "        vertical-align: middle;\n",
       "    }\n",
       "\n",
       "    .dataframe tbody tr th {\n",
       "        vertical-align: top;\n",
       "    }\n",
       "\n",
       "    .dataframe thead th {\n",
       "        text-align: right;\n",
       "    }\n",
       "</style>\n",
       "<table border=\"1\" class=\"dataframe\">\n",
       "  <thead>\n",
       "    <tr style=\"text-align: right;\">\n",
       "      <th></th>\n",
       "      <th>% in Poverty</th>\n",
       "      <th>% in Extreme Poverty</th>\n",
       "      <th>Child Poverty Rate</th>\n",
       "      <th>% Female</th>\n",
       "      <th>% Male</th>\n",
       "      <th>% Black</th>\n",
       "      <th>% Hispanic</th>\n",
       "      <th>% White</th>\n",
       "      <th>% Aged 0-4</th>\n",
       "      <th>% Aged 5-17</th>\n",
       "      <th>% Aged 18-24</th>\n",
       "      <th>% Aged 25-64</th>\n",
       "      <th>% Aged 65+</th>\n",
       "      <th>Total Pop.</th>\n",
       "      <th>Change in Pop. (2018 to 2019)</th>\n",
       "      <th>Overall Unemp.</th>\n",
       "      <th>Unemp. 16-19 yr. olds</th>\n",
       "      <th>Unemp. 20-24 yr. olds</th>\n",
       "      <th>% no HS Diploma</th>\n",
       "      <th>% HS or GED</th>\n",
       "      <th>Some College</th>\n",
       "      <th>% Associates Deg.</th>\n",
       "      <th>% Bachelors Deg.</th>\n",
       "      <th>Homeownership Rate</th>\n",
       "      <th>Rent Burden</th>\n",
       "      <th>SNAP Enrollment Rate</th>\n",
       "      <th>% Cash Assist.</th>\n",
       "      <th>Uninsured Rate</th>\n",
       "      <th>Avg. Med. Household Income (2020 Dollars)</th>\n",
       "    </tr>\n",
       "  </thead>\n",
       "  <tbody>\n",
       "    <tr>\n",
       "      <th>count</th>\n",
       "      <td>77.000000</td>\n",
       "      <td>77.000000</td>\n",
       "      <td>77.000000</td>\n",
       "      <td>77.000000</td>\n",
       "      <td>77.000000</td>\n",
       "      <td>77.000000</td>\n",
       "      <td>77.000000</td>\n",
       "      <td>77.000000</td>\n",
       "      <td>77.000000</td>\n",
       "      <td>77.000000</td>\n",
       "      <td>77.000000</td>\n",
       "      <td>77.000000</td>\n",
       "      <td>77.000000</td>\n",
       "      <td>77.000000</td>\n",
       "      <td>77.000000</td>\n",
       "      <td>77.000000</td>\n",
       "      <td>77.000000</td>\n",
       "      <td>77.000000</td>\n",
       "      <td>77.000000</td>\n",
       "      <td>77.000000</td>\n",
       "      <td>77.000000</td>\n",
       "      <td>77.000000</td>\n",
       "      <td>77.000000</td>\n",
       "      <td>77.000000</td>\n",
       "      <td>77.000000</td>\n",
       "      <td>77.000000</td>\n",
       "      <td>77.000000</td>\n",
       "      <td>77.000000</td>\n",
       "      <td>77.000000</td>\n",
       "    </tr>\n",
       "    <tr>\n",
       "      <th>mean</th>\n",
       "      <td>19.070130</td>\n",
       "      <td>8.907792</td>\n",
       "      <td>-0.406494</td>\n",
       "      <td>52.272727</td>\n",
       "      <td>47.727273</td>\n",
       "      <td>36.907792</td>\n",
       "      <td>26.449351</td>\n",
       "      <td>27.890909</td>\n",
       "      <td>6.238961</td>\n",
       "      <td>15.236364</td>\n",
       "      <td>9.550649</td>\n",
       "      <td>54.898701</td>\n",
       "      <td>14.070130</td>\n",
       "      <td>35060.361039</td>\n",
       "      <td>0.001299</td>\n",
       "      <td>10.536364</td>\n",
       "      <td>33.006494</td>\n",
       "      <td>19.274026</td>\n",
       "      <td>15.242857</td>\n",
       "      <td>24.890909</td>\n",
       "      <td>19.471429</td>\n",
       "      <td>6.155844</td>\n",
       "      <td>34.246753</td>\n",
       "      <td>48.470130</td>\n",
       "      <td>49.896104</td>\n",
       "      <td>21.287013</td>\n",
       "      <td>3.427273</td>\n",
       "      <td>10.607792</td>\n",
       "      <td>60061.219481</td>\n",
       "    </tr>\n",
       "    <tr>\n",
       "      <th>std</th>\n",
       "      <td>10.982032</td>\n",
       "      <td>6.205023</td>\n",
       "      <td>2.910523</td>\n",
       "      <td>3.330388</td>\n",
       "      <td>3.330388</td>\n",
       "      <td>38.575052</td>\n",
       "      <td>27.459035</td>\n",
       "      <td>26.347292</td>\n",
       "      <td>1.711813</td>\n",
       "      <td>4.695572</td>\n",
       "      <td>3.251705</td>\n",
       "      <td>6.716936</td>\n",
       "      <td>4.776782</td>\n",
       "      <td>23114.726472</td>\n",
       "      <td>0.025616</td>\n",
       "      <td>6.674084</td>\n",
       "      <td>21.183430</td>\n",
       "      <td>12.692511</td>\n",
       "      <td>9.146576</td>\n",
       "      <td>10.138828</td>\n",
       "      <td>7.052936</td>\n",
       "      <td>1.924940</td>\n",
       "      <td>22.080526</td>\n",
       "      <td>19.223882</td>\n",
       "      <td>11.360220</td>\n",
       "      <td>14.523849</td>\n",
       "      <td>1.806686</td>\n",
       "      <td>4.823238</td>\n",
       "      <td>24285.115980</td>\n",
       "    </tr>\n",
       "    <tr>\n",
       "      <th>min</th>\n",
       "      <td>3.300000</td>\n",
       "      <td>1.700000</td>\n",
       "      <td>-6.100000</td>\n",
       "      <td>42.400000</td>\n",
       "      <td>38.700000</td>\n",
       "      <td>0.400000</td>\n",
       "      <td>0.000000</td>\n",
       "      <td>0.800000</td>\n",
       "      <td>0.900000</td>\n",
       "      <td>2.600000</td>\n",
       "      <td>2.100000</td>\n",
       "      <td>40.500000</td>\n",
       "      <td>5.900000</td>\n",
       "      <td>2158.200000</td>\n",
       "      <td>-0.100000</td>\n",
       "      <td>0.700000</td>\n",
       "      <td>0.000000</td>\n",
       "      <td>0.000000</td>\n",
       "      <td>1.800000</td>\n",
       "      <td>3.300000</td>\n",
       "      <td>6.800000</td>\n",
       "      <td>1.800000</td>\n",
       "      <td>6.700000</td>\n",
       "      <td>8.800000</td>\n",
       "      <td>24.500000</td>\n",
       "      <td>1.500000</td>\n",
       "      <td>0.600000</td>\n",
       "      <td>1.500000</td>\n",
       "      <td>25700.000000</td>\n",
       "    </tr>\n",
       "    <tr>\n",
       "      <th>25%</th>\n",
       "      <td>10.900000</td>\n",
       "      <td>4.300000</td>\n",
       "      <td>-2.200000</td>\n",
       "      <td>50.100000</td>\n",
       "      <td>45.400000</td>\n",
       "      <td>3.000000</td>\n",
       "      <td>5.400000</td>\n",
       "      <td>4.400000</td>\n",
       "      <td>5.400000</td>\n",
       "      <td>11.600000</td>\n",
       "      <td>7.700000</td>\n",
       "      <td>50.500000</td>\n",
       "      <td>10.600000</td>\n",
       "      <td>18337.800000</td>\n",
       "      <td>0.000000</td>\n",
       "      <td>5.100000</td>\n",
       "      <td>18.500000</td>\n",
       "      <td>9.000000</td>\n",
       "      <td>8.100000</td>\n",
       "      <td>18.900000</td>\n",
       "      <td>14.400000</td>\n",
       "      <td>4.900000</td>\n",
       "      <td>16.300000</td>\n",
       "      <td>35.200000</td>\n",
       "      <td>41.600000</td>\n",
       "      <td>9.200000</td>\n",
       "      <td>2.100000</td>\n",
       "      <td>8.200000</td>\n",
       "      <td>42576.200000</td>\n",
       "    </tr>\n",
       "    <tr>\n",
       "      <th>50%</th>\n",
       "      <td>15.700000</td>\n",
       "      <td>6.700000</td>\n",
       "      <td>-0.300000</td>\n",
       "      <td>51.700000</td>\n",
       "      <td>48.300000</td>\n",
       "      <td>13.300000</td>\n",
       "      <td>13.200000</td>\n",
       "      <td>14.700000</td>\n",
       "      <td>6.300000</td>\n",
       "      <td>16.000000</td>\n",
       "      <td>9.200000</td>\n",
       "      <td>52.800000</td>\n",
       "      <td>13.200000</td>\n",
       "      <td>29489.900000</td>\n",
       "      <td>0.000000</td>\n",
       "      <td>8.500000</td>\n",
       "      <td>29.400000</td>\n",
       "      <td>15.300000</td>\n",
       "      <td>13.600000</td>\n",
       "      <td>25.600000</td>\n",
       "      <td>19.300000</td>\n",
       "      <td>6.100000</td>\n",
       "      <td>28.600000</td>\n",
       "      <td>45.300000</td>\n",
       "      <td>50.600000</td>\n",
       "      <td>17.300000</td>\n",
       "      <td>3.300000</td>\n",
       "      <td>10.400000</td>\n",
       "      <td>52596.600000</td>\n",
       "    </tr>\n",
       "    <tr>\n",
       "      <th>75%</th>\n",
       "      <td>25.500000</td>\n",
       "      <td>12.100000</td>\n",
       "      <td>0.500000</td>\n",
       "      <td>54.600000</td>\n",
       "      <td>49.900000</td>\n",
       "      <td>82.600000</td>\n",
       "      <td>45.900000</td>\n",
       "      <td>48.800000</td>\n",
       "      <td>7.200000</td>\n",
       "      <td>18.400000</td>\n",
       "      <td>10.900000</td>\n",
       "      <td>58.500000</td>\n",
       "      <td>16.600000</td>\n",
       "      <td>46747.800000</td>\n",
       "      <td>0.000000</td>\n",
       "      <td>16.100000</td>\n",
       "      <td>48.500000</td>\n",
       "      <td>27.800000</td>\n",
       "      <td>20.800000</td>\n",
       "      <td>32.100000</td>\n",
       "      <td>25.100000</td>\n",
       "      <td>7.600000</td>\n",
       "      <td>43.600000</td>\n",
       "      <td>64.500000</td>\n",
       "      <td>58.700000</td>\n",
       "      <td>33.000000</td>\n",
       "      <td>4.600000</td>\n",
       "      <td>12.500000</td>\n",
       "      <td>74054.100000</td>\n",
       "    </tr>\n",
       "    <tr>\n",
       "      <th>max</th>\n",
       "      <td>47.600000</td>\n",
       "      <td>34.800000</td>\n",
       "      <td>12.300000</td>\n",
       "      <td>61.300000</td>\n",
       "      <td>57.600000</td>\n",
       "      <td>96.500000</td>\n",
       "      <td>91.000000</td>\n",
       "      <td>82.700000</td>\n",
       "      <td>11.400000</td>\n",
       "      <td>24.000000</td>\n",
       "      <td>24.600000</td>\n",
       "      <td>75.900000</td>\n",
       "      <td>28.500000</td>\n",
       "      <td>101392.000000</td>\n",
       "      <td>0.100000</td>\n",
       "      <td>29.700000</td>\n",
       "      <td>100.000000</td>\n",
       "      <td>51.600000</td>\n",
       "      <td>41.000000</td>\n",
       "      <td>42.200000</td>\n",
       "      <td>42.700000</td>\n",
       "      <td>10.200000</td>\n",
       "      <td>85.300000</td>\n",
       "      <td>91.700000</td>\n",
       "      <td>72.500000</td>\n",
       "      <td>61.600000</td>\n",
       "      <td>9.100000</td>\n",
       "      <td>24.000000</td>\n",
       "      <td>128699.800000</td>\n",
       "    </tr>\n",
       "  </tbody>\n",
       "</table>\n",
       "</div>"
      ],
      "text/plain": [
       "       % in Poverty  % in Extreme Poverty  Child Poverty Rate   % Female   \n",
       "count     77.000000             77.000000           77.000000  77.000000  \\\n",
       "mean      19.070130              8.907792           -0.406494  52.272727   \n",
       "std       10.982032              6.205023            2.910523   3.330388   \n",
       "min        3.300000              1.700000           -6.100000  42.400000   \n",
       "25%       10.900000              4.300000           -2.200000  50.100000   \n",
       "50%       15.700000              6.700000           -0.300000  51.700000   \n",
       "75%       25.500000             12.100000            0.500000  54.600000   \n",
       "max       47.600000             34.800000           12.300000  61.300000   \n",
       "\n",
       "          % Male    % Black  % Hispanic    % White  % Aged 0-4  % Aged 5-17   \n",
       "count  77.000000  77.000000   77.000000  77.000000   77.000000    77.000000  \\\n",
       "mean   47.727273  36.907792   26.449351  27.890909    6.238961    15.236364   \n",
       "std     3.330388  38.575052   27.459035  26.347292    1.711813     4.695572   \n",
       "min    38.700000   0.400000    0.000000   0.800000    0.900000     2.600000   \n",
       "25%    45.400000   3.000000    5.400000   4.400000    5.400000    11.600000   \n",
       "50%    48.300000  13.300000   13.200000  14.700000    6.300000    16.000000   \n",
       "75%    49.900000  82.600000   45.900000  48.800000    7.200000    18.400000   \n",
       "max    57.600000  96.500000   91.000000  82.700000   11.400000    24.000000   \n",
       "\n",
       "       % Aged 18-24  % Aged 25-64  % Aged 65+     Total Pop.   \n",
       "count     77.000000     77.000000   77.000000      77.000000  \\\n",
       "mean       9.550649     54.898701   14.070130   35060.361039   \n",
       "std        3.251705      6.716936    4.776782   23114.726472   \n",
       "min        2.100000     40.500000    5.900000    2158.200000   \n",
       "25%        7.700000     50.500000   10.600000   18337.800000   \n",
       "50%        9.200000     52.800000   13.200000   29489.900000   \n",
       "75%       10.900000     58.500000   16.600000   46747.800000   \n",
       "max       24.600000     75.900000   28.500000  101392.000000   \n",
       "\n",
       "       Change in Pop. (2018 to 2019)  Overall Unemp.  Unemp. 16-19 yr. olds   \n",
       "count                      77.000000       77.000000              77.000000  \\\n",
       "mean                        0.001299       10.536364              33.006494   \n",
       "std                         0.025616        6.674084              21.183430   \n",
       "min                        -0.100000        0.700000               0.000000   \n",
       "25%                         0.000000        5.100000              18.500000   \n",
       "50%                         0.000000        8.500000              29.400000   \n",
       "75%                         0.000000       16.100000              48.500000   \n",
       "max                         0.100000       29.700000             100.000000   \n",
       "\n",
       "       Unemp. 20-24 yr. olds  % no HS Diploma  % HS or GED  Some College   \n",
       "count              77.000000        77.000000    77.000000     77.000000  \\\n",
       "mean               19.274026        15.242857    24.890909     19.471429   \n",
       "std                12.692511         9.146576    10.138828      7.052936   \n",
       "min                 0.000000         1.800000     3.300000      6.800000   \n",
       "25%                 9.000000         8.100000    18.900000     14.400000   \n",
       "50%                15.300000        13.600000    25.600000     19.300000   \n",
       "75%                27.800000        20.800000    32.100000     25.100000   \n",
       "max                51.600000        41.000000    42.200000     42.700000   \n",
       "\n",
       "       % Associates Deg.  % Bachelors Deg.  Homeownership Rate  Rent Burden   \n",
       "count          77.000000         77.000000           77.000000    77.000000  \\\n",
       "mean            6.155844         34.246753           48.470130    49.896104   \n",
       "std             1.924940         22.080526           19.223882    11.360220   \n",
       "min             1.800000          6.700000            8.800000    24.500000   \n",
       "25%             4.900000         16.300000           35.200000    41.600000   \n",
       "50%             6.100000         28.600000           45.300000    50.600000   \n",
       "75%             7.600000         43.600000           64.500000    58.700000   \n",
       "max            10.200000         85.300000           91.700000    72.500000   \n",
       "\n",
       "       SNAP Enrollment Rate  % Cash Assist.  Uninsured Rate   \n",
       "count             77.000000       77.000000       77.000000  \\\n",
       "mean              21.287013        3.427273       10.607792   \n",
       "std               14.523849        1.806686        4.823238   \n",
       "min                1.500000        0.600000        1.500000   \n",
       "25%                9.200000        2.100000        8.200000   \n",
       "50%               17.300000        3.300000       10.400000   \n",
       "75%               33.000000        4.600000       12.500000   \n",
       "max               61.600000        9.100000       24.000000   \n",
       "\n",
       "       Avg. Med. Household Income (2020 Dollars)  \n",
       "count                                  77.000000  \n",
       "mean                                60061.219481  \n",
       "std                                 24285.115980  \n",
       "min                                 25700.000000  \n",
       "25%                                 42576.200000  \n",
       "50%                                 52596.600000  \n",
       "75%                                 74054.100000  \n",
       "max                                128699.800000  "
      ]
     },
     "execution_count": 10,
     "metadata": {},
     "output_type": "execute_result"
    }
   ],
   "source": [
    "dem_df.iloc[1:].describe() "
   ]
  },
  {
   "cell_type": "code",
   "execution_count": 11,
   "id": "4cd8d7c7",
   "metadata": {},
   "outputs": [],
   "source": [
    "dem_df2 = dem_df[['community', 'Total Pop.', '% in Poverty',\n",
    "                        '% in Extreme Poverty', '% Female',\n",
    "                        '% Black', '% Hispanic', '% White', '% Aged 0-4',\n",
    "                        '% Aged 5-17', '% Aged 18-24',\n",
    "                        '% Aged 25-64', '% Aged 65+',\n",
    "                        'Overall Unemp.', 'Unemp. 20-24 yr. olds',\n",
    "                        '% no HS Diploma', '% HS or GED',\n",
    "                        '% Bachelors Deg.', 'Homeownership Rate',\n",
    "                        'SNAP Enrollment Rate', '% Cash Assist.',\n",
    "                        'Uninsured Rate',\n",
    "                        'Avg. Med. Household Income (2020 Dollars)']]"
   ]
  },
  {
   "cell_type": "code",
   "execution_count": 12,
   "id": "228c3249",
   "metadata": {},
   "outputs": [],
   "source": [
    "od_df2 = od_df.merge(dem_df2, how='inner', indicator=True) #drop Chicago overall"
   ]
  },
  {
   "cell_type": "code",
   "execution_count": 13,
   "id": "860ef58b",
   "metadata": {},
   "outputs": [
    {
     "data": {
      "text/plain": [
       "(77, 34)"
      ]
     },
     "execution_count": 13,
     "metadata": {},
     "output_type": "execute_result"
    }
   ],
   "source": [
    "od_df2.shape"
   ]
  },
  {
   "cell_type": "code",
   "execution_count": 14,
   "id": "fb3042fe",
   "metadata": {
    "scrolled": true
   },
   "outputs": [],
   "source": [
    "#od_df2.columns"
   ]
  },
  {
   "cell_type": "markdown",
   "id": "097bdfa3",
   "metadata": {},
   "source": [
    "Standardizing the dependent variable, number of fatal overdoses in a given area, and the key independent variables, the concentration of buprenorphine and pharmacies in a given community area.\n",
    "\n",
    "Overdose rate per 100 (minimum pop. is 2158)"
   ]
  },
  {
   "cell_type": "code",
   "execution_count": 15,
   "id": "376ca6c0",
   "metadata": {
    "scrolled": true
   },
   "outputs": [],
   "source": [
    "def spat_intensive(df, var1, var2, var3, var4, var5):\n",
    "    df[var1]  = (df[var1]/df['Total Pop.'])*100\n",
    "    df[var2]  = (df[var2]/df['Total Pop.'])*100\n",
    "    df[var3]  = (df[var3]/df['Total Pop.'])*100\n",
    "    df[var4]  = (df[var4]/df['Total Pop.'])*100\n",
    "    df[var5]  = (df[var5]/df['Total Pop.'])*100\n",
    "    return df\n",
    "\n",
    "od_df2 = spat_intensive(od_df2, 'od_2019', 'od_2020', 'od_2021', 'bupren_area', 'pharmacy_area')\n",
    "#od_df2"
   ]
  },
  {
   "cell_type": "code",
   "execution_count": 16,
   "id": "5d112cb0",
   "metadata": {
    "scrolled": true
   },
   "outputs": [],
   "source": [
    "wq = libpysal.io.open(os.path.join(path, \"Boundaries - Community Areas (current)/q_order1.gal\")).read()\n",
    "wq.transform = 'r'\n",
    "# wq.weights"
   ]
  },
  {
   "cell_type": "code",
   "execution_count": 17,
   "id": "f911f537",
   "metadata": {},
   "outputs": [
    {
     "data": {
      "text/plain": [
       "[0.25, 0.25, 0.25, 0.25]"
      ]
     },
     "execution_count": 17,
     "metadata": {},
     "output_type": "execute_result"
    }
   ],
   "source": [
    "wq.n\n",
    "wq.weights['77']"
   ]
  },
  {
   "cell_type": "markdown",
   "id": "8bac381a",
   "metadata": {},
   "source": [
    "### Model Specification"
   ]
  },
  {
   "cell_type": "markdown",
   "id": "46a9bb34",
   "metadata": {},
   "source": [
    "I have three dependent variables, the overdose rate in 2019, the overdose rate in 2020, and the overdose rate in 2021. I will start with 2019. "
   ]
  },
  {
   "cell_type": "code",
   "execution_count": 18,
   "id": "dee68618",
   "metadata": {},
   "outputs": [],
   "source": [
    "y_name1 = 'od_2019'\n",
    "y_name2 = 'od_2020'\n",
    "y_name3 = 'od_2021'"
   ]
  },
  {
   "cell_type": "code",
   "execution_count": 19,
   "id": "b7475aaf",
   "metadata": {},
   "outputs": [],
   "source": [
    "x_names1 = ['bupren_area', 'pharmacy_area']\n",
    "x_names2 = ['bupren_area', 'pharmacy_area', \n",
    "            '% in Poverty',\n",
    "            '% Female',\n",
    "            '% Black',\n",
    "            '% Hispanic',\n",
    "            '% White', \n",
    "            '% Aged 65+',\n",
    "            'Overall Unemp.',\n",
    "            'Unemp. 20-24 yr. olds',\n",
    "            '% no HS Diploma',\n",
    "            '% HS or GED',\n",
    "            '% Bachelors Deg.',\n",
    "            'Uninsured Rate',\n",
    "            #'Avg. Med. Household Income (2020 Dollars)'\n",
    "           ]"
   ]
  },
  {
   "cell_type": "code",
   "execution_count": 20,
   "id": "9187973f",
   "metadata": {},
   "outputs": [],
   "source": [
    "ds_name = 'od_df2'\n",
    "w_name = 'q_order1'"
   ]
  },
  {
   "cell_type": "code",
   "execution_count": 21,
   "id": "c84fd374",
   "metadata": {},
   "outputs": [
    {
     "data": {
      "text/plain": [
       "(77,)"
      ]
     },
     "execution_count": 21,
     "metadata": {},
     "output_type": "execute_result"
    }
   ],
   "source": [
    "y1 = np.array(od_df2[y_name1])\n",
    "y2 = np.array(od_df2[y_name2])\n",
    "y3 = np.array(od_df2[y_name3])\n",
    "y1.shape"
   ]
  },
  {
   "cell_type": "code",
   "execution_count": 22,
   "id": "13edfd0a",
   "metadata": {},
   "outputs": [
    {
     "data": {
      "text/plain": [
       "(77, 2)"
      ]
     },
     "execution_count": 22,
     "metadata": {},
     "output_type": "execute_result"
    }
   ],
   "source": [
    "x1 = np.array(od_df2[x_names1])\n",
    "x1.shape"
   ]
  },
  {
   "cell_type": "code",
   "execution_count": 23,
   "id": "2b1c9964",
   "metadata": {},
   "outputs": [
    {
     "data": {
      "text/plain": [
       "(77, 14)"
      ]
     },
     "execution_count": 23,
     "metadata": {},
     "output_type": "execute_result"
    }
   ],
   "source": [
    "x2 = np.array(od_df2[x_names2])\n",
    "x2.shape"
   ]
  },
  {
   "cell_type": "markdown",
   "id": "b40c5f74",
   "metadata": {},
   "source": [
    "### OLS Regression"
   ]
  },
  {
   "cell_type": "markdown",
   "id": "65ae51ee",
   "metadata": {},
   "source": [
    "### LM Diagnostics "
   ]
  },
  {
   "cell_type": "code",
   "execution_count": 24,
   "id": "518d01ea",
   "metadata": {},
   "outputs": [
    {
     "name": "stdout",
     "output_type": "stream",
     "text": [
      "REGRESSION\n",
      "----------\n",
      "SUMMARY OF OUTPUT: ORDINARY LEAST SQUARES\n",
      "-----------------------------------------\n",
      "Data set            :      od_df2\n",
      "Weights matrix      :    q_order1\n",
      "Dependent Variable  :     od_2021                Number of Observations:          77\n",
      "Mean dependent var  :      0.0574                Number of Variables   :           3\n",
      "S.D. dependent var  :      0.0830                Degrees of Freedom    :          74\n",
      "R-squared           :      0.0660\n",
      "Adjusted R-squared  :      0.0407\n",
      "Sum squared residual:       0.489                F-statistic           :      2.6143\n",
      "Sigma-square        :       0.007                Prob(F-statistic)     :     0.07997\n",
      "S.E. of regression  :       0.081                Log likelihood        :      85.483\n",
      "Sigma-square ML     :       0.006                Akaike info criterion :    -164.966\n",
      "S.E of regression ML:      0.0797                Schwarz criterion     :    -157.934\n",
      "\n",
      "------------------------------------------------------------------------------------\n",
      "            Variable     Coefficient       Std.Error     t-Statistic     Probability\n",
      "------------------------------------------------------------------------------------\n",
      "            CONSTANT       0.0316215       0.0166718       1.8967019       0.0617702\n",
      "         bupren_area       0.4216385       0.2931780       1.4381654       0.1546030\n",
      "       pharmacy_area       1.2854216       0.9969558       1.2893467       0.2012932\n",
      "------------------------------------------------------------------------------------\n",
      "\n",
      "REGRESSION DIAGNOSTICS\n",
      "MULTICOLLINEARITY CONDITION NUMBER            3.666\n",
      "\n",
      "TEST ON NORMALITY OF ERRORS\n",
      "TEST                             DF        VALUE           PROB\n",
      "Jarque-Bera                       2         858.185           0.0000\n",
      "\n",
      "DIAGNOSTICS FOR HETEROSKEDASTICITY\n",
      "RANDOM COEFFICIENTS\n",
      "TEST                             DF        VALUE           PROB\n",
      "Breusch-Pagan test                2          20.822           0.0000\n",
      "Koenker-Bassett test              2           2.483           0.2890\n",
      "\n",
      "DIAGNOSTICS FOR SPATIAL DEPENDENCE\n",
      "TEST                           MI/DF       VALUE           PROB\n",
      "Moran's I (error)              0.3369         4.960           0.0000\n",
      "Lagrange Multiplier (lag)         1          22.245           0.0000\n",
      "Robust LM (lag)                   1           1.865           0.1721\n",
      "Lagrange Multiplier (error)       1          20.509           0.0000\n",
      "Robust LM (error)                 1           0.129           0.7194\n",
      "Lagrange Multiplier (SARMA)       2          22.374           0.0000\n",
      "\n",
      "================================ END OF REPORT =====================================\n"
     ]
    }
   ],
   "source": [
    "ols1b = spreg.OLS(y3, x1, w=wq, name_y=y_name3, name_x=x_names1, name_ds=ds_name,\n",
    "                 spat_diag=True, moran=True, name_w=w_name)\n",
    "print(ols1b.summary)"
   ]
  },
  {
   "cell_type": "code",
   "execution_count": 25,
   "id": "63ac7593",
   "metadata": {},
   "outputs": [
    {
     "name": "stdout",
     "output_type": "stream",
     "text": [
      "REGRESSION\n",
      "----------\n",
      "SUMMARY OF OUTPUT: ORDINARY LEAST SQUARES\n",
      "-----------------------------------------\n",
      "Data set            :      od_df2\n",
      "Weights matrix      :    q_order1\n",
      "Dependent Variable  :     od_2021                Number of Observations:          77\n",
      "Mean dependent var  :      0.0574                Number of Variables   :          15\n",
      "S.D. dependent var  :      0.0830                Degrees of Freedom    :          62\n",
      "R-squared           :      0.6431\n",
      "Adjusted R-squared  :      0.5626\n",
      "Sum squared residual:       0.187                F-statistic           :      7.9813\n",
      "Sigma-square        :       0.003                Prob(F-statistic)     :   2.456e-09\n",
      "S.E. of regression  :       0.055                Log likelihood        :     122.525\n",
      "Sigma-square ML     :       0.002                Akaike info criterion :    -215.050\n",
      "S.E of regression ML:      0.0493                Schwarz criterion     :    -179.893\n",
      "\n",
      "------------------------------------------------------------------------------------\n",
      "            Variable     Coefficient       Std.Error     t-Statistic     Probability\n",
      "------------------------------------------------------------------------------------\n",
      "            CONSTANT      -0.2430508       0.3364021      -0.7225008       0.4727032\n",
      "         bupren_area       0.0904622       0.2198079       0.4115514       0.6820875\n",
      "       pharmacy_area       1.6719060       0.8487145       1.9699274       0.0533177\n",
      "        % in Poverty       0.0025628       0.0014694       1.7440484       0.0861068\n",
      "            % Female      -0.0049050       0.0036927      -1.3283040       0.1889466\n",
      "             % Black       0.0032589       0.0009714       3.3548390       0.0013592\n",
      "          % Hispanic       0.0005355       0.0009156       0.5848054       0.5608008\n",
      "             % White       0.0036499       0.0012030       3.0339965       0.0035232\n",
      "          % Aged 65+      -0.0009577       0.0019471      -0.4918870       0.6245364\n",
      "      Overall Unemp.      -0.0015160       0.0032402      -0.4678790       0.6415116\n",
      "Unemp. 20-24 yr. olds       0.0003165       0.0010234       0.3092999       0.7581305\n",
      "     % no HS Diploma       0.0084428       0.0026725       3.1591520       0.0024460\n",
      "         % HS or GED       0.0042770       0.0032541       1.3143515       0.1935697\n",
      "    % Bachelors Deg.       0.0019233       0.0016864       1.1404470       0.2584865\n",
      "      Uninsured Rate      -0.0029906       0.0024402      -1.2255297       0.2250108\n",
      "------------------------------------------------------------------------------------\n",
      "\n",
      "REGRESSION DIAGNOSTICS\n",
      "MULTICOLLINEARITY CONDITION NUMBER          203.230\n",
      "\n",
      "TEST ON NORMALITY OF ERRORS\n",
      "TEST                             DF        VALUE           PROB\n",
      "Jarque-Bera                       2         248.226           0.0000\n",
      "\n",
      "DIAGNOSTICS FOR HETEROSKEDASTICITY\n",
      "RANDOM COEFFICIENTS\n",
      "TEST                             DF        VALUE           PROB\n",
      "Breusch-Pagan test               14         167.275           0.0000\n",
      "Koenker-Bassett test             14          32.976           0.0029\n",
      "\n",
      "DIAGNOSTICS FOR SPATIAL DEPENDENCE\n",
      "TEST                           MI/DF       VALUE           PROB\n",
      "Moran's I (error)              0.1768         3.678           0.0002\n",
      "Lagrange Multiplier (lag)         1           8.848           0.0029\n",
      "Robust LM (lag)                   1           3.305           0.0691\n",
      "Lagrange Multiplier (error)       1           5.646           0.0175\n",
      "Robust LM (error)                 1           0.104           0.7476\n",
      "Lagrange Multiplier (SARMA)       2           8.951           0.0114\n",
      "\n",
      "================================ END OF REPORT =====================================\n"
     ]
    }
   ],
   "source": [
    "ols2b = spreg.OLS(y3, x2, w=wq, name_y=y_name3, name_x=x_names2, name_ds=ds_name,\n",
    "                 spat_diag=True, moran=True, name_w=w_name)\n",
    "print(ols2b.summary)"
   ]
  },
  {
   "cell_type": "markdown",
   "id": "5472acec",
   "metadata": {},
   "source": [
    "There appears to be strong evidence of spatial misspecification based on the Moran's I statistic. Both the LM-error and LM-lag statistics reject the null in favor of spatial autocorrelation so it makes sense to rely on the robust tests. With this model, neither robust statistic is statistically significant but because the robust LM-lag statistic is closer to signficiance, I will proceed with estimating a spatial lag model. There's very little additional evidence that this would be useful. \n",
    "\n",
    "As anticipated, the multicollinearity is high and I will experiment with removing some of the explanatory variables with the tradeoff of adjusted R-squared."
   ]
  },
  {
   "cell_type": "code",
   "execution_count": 26,
   "id": "eff4a2ef",
   "metadata": {},
   "outputs": [
    {
     "name": "stdout",
     "output_type": "stream",
     "text": [
      "0.02537083625793457\n",
      "REGRESSION\n",
      "----------\n",
      "SUMMARY OF OUTPUT: MAXIMUM LIKELIHOOD SPATIAL LAG (METHOD = FULL)\n",
      "-----------------------------------------------------------------\n",
      "Data set            :      od_df2\n",
      "Weights matrix      :    q_order1\n",
      "Dependent Variable  :     od_2021                Number of Observations:          77\n",
      "Mean dependent var  :      0.0574                Number of Variables   :          16\n",
      "S.D. dependent var  :      0.0830                Degrees of Freedom    :          61\n",
      "Pseudo R-squared    :      0.7148\n",
      "Spatial Pseudo R-squared:  0.5977\n",
      "Sigma-square ML     :       0.002                Log likelihood        :     128.467\n",
      "S.E of regression   :       0.044                Akaike info criterion :    -224.934\n",
      "                                                 Schwarz criterion     :    -187.433\n",
      "\n",
      "------------------------------------------------------------------------------------\n",
      "            Variable     Coefficient       Std.Error     z-Statistic     Probability\n",
      "------------------------------------------------------------------------------------\n",
      "            CONSTANT      -0.1552462       0.2704805      -0.5739644       0.5659919\n",
      "         bupren_area      -0.0928120       0.1772929      -0.5234955       0.6006295\n",
      "       pharmacy_area       1.7089534       0.6839025       2.4988260       0.0124605\n",
      "        % in Poverty       0.0023941       0.0011815       2.0264208       0.0427217\n",
      "            % Female      -0.0056593       0.0029696      -1.9057593       0.0566814\n",
      "             % Black       0.0026899       0.0007816       3.4413465       0.0005788\n",
      "          % Hispanic       0.0009409       0.0007382       1.2746218       0.2024431\n",
      "             % White       0.0033272       0.0009676       3.4384537       0.0005850\n",
      "          % Aged 65+       0.0007270       0.0015646       0.4646176       0.6422053\n",
      "      Overall Unemp.       0.0000307       0.0026199       0.0117149       0.9906531\n",
      "Unemp. 20-24 yr. olds       0.0003412       0.0008290       0.4115570       0.6806641\n",
      "     % no HS Diploma       0.0056621       0.0021758       2.6023005       0.0092601\n",
      "         % HS or GED       0.0027392       0.0026164       1.0469535       0.2951210\n",
      "    % Bachelors Deg.       0.0013257       0.0013554       0.9780843       0.3280326\n",
      "      Uninsured Rate      -0.0022590       0.0020238      -1.1162375       0.2643205\n",
      "           W_od_2021       0.5287449       0.1055238       5.0106691       0.0000005\n",
      "------------------------------------------------------------------------------------\n",
      "================================ END OF REPORT =====================================\n"
     ]
    },
    {
     "name": "stderr",
     "output_type": "stream",
     "text": [
      "/Users/polinarozhkova/anaconda3/lib/python3.10/site-packages/scipy/optimize/_minimize.py:892: RuntimeWarning: Method 'bounded' does not support relative tolerance in x; defaulting to absolute tolerance.\n",
      "  warn(\"Method 'bounded' does not support relative tolerance in x; \"\n"
     ]
    }
   ],
   "source": [
    "t0 = time.time()\n",
    "lag1 = spreg.ML_Lag(y3,x2,w=wq,name_y=y_name3,name_x=x_names2,\n",
    "                     name_w=w_name,name_ds=ds_name)\n",
    "t1 = time.time()\n",
    "print(t1-t0)\n",
    "print(lag1.summary)"
   ]
  },
  {
   "cell_type": "markdown",
   "id": "ba845161",
   "metadata": {},
   "source": [
    "The estimated spatial autoregressive coefficient is 0.529 and appears to be highly statistically signficant and the explanatory variables that were statistically significant in the OLS model maintain signficiance (or become more significant) while maintaining cofficient sign. The magnitude of the effects of these explanatory variables are  small relative to the estimated coefficient on *pharmacy_area*. The actual interpretation of this coefficient doesn't make much practical sense but suggests that an increase in the concentration of pharmacies (number of pharmacies/total population of community area) per 100 people is estimated to increase the rate of fatal overdose in a community holding everything else constant. Finally, the overall AIC of the spatial lag model is smaller (-224.934) than it is in the OLS model (-215.050) which can suggest an improvement in the fit of the model. I won't hold onto that possibility too dearly. "
   ]
  },
  {
   "cell_type": "markdown",
   "id": "b1deebe2",
   "metadata": {},
   "source": [
    "## Spatial Regimes"
   ]
  },
  {
   "cell_type": "markdown",
   "id": "1006ca73",
   "metadata": {},
   "source": [
    "For the regimes variable:"
   ]
  },
  {
   "cell_type": "code",
   "execution_count": 27,
   "id": "4bf5333b",
   "metadata": {},
   "outputs": [
    {
     "data": {
      "text/plain": [
       "list"
      ]
     },
     "execution_count": 27,
     "metadata": {},
     "output_type": "execute_result"
    }
   ],
   "source": [
    "regimes = od_df2['region'].tolist()\n",
    "type(regimes)"
   ]
  },
  {
   "cell_type": "markdown",
   "id": "2ba59334",
   "metadata": {},
   "source": [
    "### Spatially Lagged Explanatory Variables"
   ]
  },
  {
   "cell_type": "code",
   "execution_count": 28,
   "id": "ab1aa89f",
   "metadata": {},
   "outputs": [
    {
     "data": {
      "text/plain": [
       "array([[0.02797203, 0.00932401, 0.01193153, 0.01987024],\n",
       "       [0.01434103, 0.02868206, 0.02289167, 0.01245072],\n",
       "       [0.04521818, 0.04521818, 0.01364934, 0.01392206]])"
      ]
     },
     "execution_count": 28,
     "metadata": {},
     "output_type": "execute_result"
    }
   ],
   "source": [
    "WX_1 = libpysal.weights.lag_spatial(wq,x1)\n",
    "xdur_1 = np.hstack((x1,WX_1))\n",
    "xdur_1[0:3,]"
   ]
  },
  {
   "cell_type": "code",
   "execution_count": 29,
   "id": "3764bdf2",
   "metadata": {},
   "outputs": [],
   "source": [
    "WX_2 = libpysal.weights.lag_spatial(wq,x2)\n",
    "xdur_2 = np.hstack((x2,WX_2))\n",
    "#xdur_2[0:3,]"
   ]
  },
  {
   "cell_type": "code",
   "execution_count": 30,
   "id": "ff536407",
   "metadata": {},
   "outputs": [
    {
     "data": {
      "text/plain": [
       "['bupren_area', 'pharmacy_area', 'W_bupren_area', 'W_pharmacy_area']"
      ]
     },
     "execution_count": 30,
     "metadata": {},
     "output_type": "execute_result"
    }
   ],
   "source": [
    "wnames_1 = []\n",
    "for j in x_names1:\n",
    "    wnames_1.append(\"W_\" + j)\n",
    "dur_names_1 = x_names1 + wnames_1\n",
    "dur_names_1"
   ]
  },
  {
   "cell_type": "code",
   "execution_count": 31,
   "id": "595ec6ba",
   "metadata": {
    "scrolled": true
   },
   "outputs": [],
   "source": [
    "wnames_2 = []\n",
    "for j in x_names2:\n",
    "    wnames_2.append(\"W_\" + j)\n",
    "dur_names_2 = x_names2 + wnames_2\n",
    "#dur_names_2"
   ]
  },
  {
   "cell_type": "markdown",
   "id": "20b348f7",
   "metadata": {},
   "source": [
    "### Spatially Lagged Dependent Variable\n",
    "\n",
    "We will also need to explicitly include the lagged dependent variable as an endogenous variable."
   ]
  },
  {
   "cell_type": "code",
   "execution_count": 32,
   "id": "05a8249d",
   "metadata": {},
   "outputs": [
    {
     "data": {
      "text/plain": [
       "(77, 1)"
      ]
     },
     "execution_count": 32,
     "metadata": {},
     "output_type": "execute_result"
    }
   ],
   "source": [
    "Wy_1 = libpysal.weights.lag_spatial(wq,y1).reshape(-1,1)\n",
    "yend_name_1 = [\"Wy_1\"]\n",
    "Wy_1.shape"
   ]
  },
  {
   "cell_type": "code",
   "execution_count": 33,
   "id": "274237ab",
   "metadata": {},
   "outputs": [
    {
     "data": {
      "text/plain": [
       "(77, 1)"
      ]
     },
     "execution_count": 33,
     "metadata": {},
     "output_type": "execute_result"
    }
   ],
   "source": [
    "Wy_2 = libpysal.weights.lag_spatial(wq,y2).reshape(-1,1)\n",
    "yend_name_2 = [\"Wy_2\"]\n",
    "Wy_2.shape"
   ]
  },
  {
   "cell_type": "code",
   "execution_count": 34,
   "id": "6296ba83",
   "metadata": {},
   "outputs": [
    {
     "data": {
      "text/plain": [
       "(77, 1)"
      ]
     },
     "execution_count": 34,
     "metadata": {},
     "output_type": "execute_result"
    }
   ],
   "source": [
    "Wy_3 = libpysal.weights.lag_spatial(wq,y3).reshape(-1,1)\n",
    "yend_name_3 = [\"Wy_3\"]\n",
    "Wy_3.shape"
   ]
  },
  {
   "cell_type": "markdown",
   "id": "accdf942",
   "metadata": {},
   "source": [
    "### Additional Instruments\n"
   ]
  },
  {
   "cell_type": "code",
   "execution_count": 35,
   "id": "4a06a6e0",
   "metadata": {},
   "outputs": [
    {
     "data": {
      "text/plain": [
       "['W2_bupren_area', 'W2_pharmacy_area']"
      ]
     },
     "execution_count": 35,
     "metadata": {},
     "output_type": "execute_result"
    }
   ],
   "source": [
    "W2X_1 = libpysal.weights.lag_spatial(wq,WX_1)\n",
    "w2names_1 = []\n",
    "for j in x_names1:\n",
    "    w2names_1.append(\"W2_\" + j)\n",
    "w2names_1"
   ]
  },
  {
   "cell_type": "code",
   "execution_count": 36,
   "id": "4db51ba1",
   "metadata": {},
   "outputs": [],
   "source": [
    "W2X_2 = libpysal.weights.lag_spatial(wq,WX_2)\n",
    "w2names_2 = []\n",
    "for j in x_names2:\n",
    "    w2names_2.append(\"W2_\" + j)\n",
    "#w2names_2"
   ]
  },
  {
   "cell_type": "code",
   "execution_count": 37,
   "id": "64a55b0e",
   "metadata": {},
   "outputs": [],
   "source": [
    "wwwx = libpysal.weights.lag_spatial(wq,W2X_2)\n",
    "W3X = np.hstack((W2X_2,wwwx))\n",
    "w3names = []\n",
    "for j in x_names2:\n",
    "    w3names.append(\"W3_\" + j)\n",
    "inst3names = w2names_2 + w3names\n",
    "#inst3names"
   ]
  },
  {
   "cell_type": "code",
   "execution_count": 38,
   "id": "0024be27",
   "metadata": {
    "scrolled": false
   },
   "outputs": [
    {
     "name": "stderr",
     "output_type": "stream",
     "text": [
      "/Users/polinarozhkova/anaconda3/lib/python3.10/site-packages/spreg/utils.py:153: RuntimeWarning: divide by zero encountered in scalar divide\n",
      "  self._cache[\"sig2n_k\"] = self.utu / (self.n - self.k)\n",
      "/Users/polinarozhkova/anaconda3/lib/python3.10/site-packages/spreg/diagnostics.py:294: RuntimeWarning: invalid value encountered in scalar divide\n",
      "  ar2_result = 1 - (1 - r2(reg)) * (n - 1) / (n - k)\n",
      "/Users/polinarozhkova/anaconda3/lib/python3.10/site-packages/spreg/diagnostics.py:96: RuntimeWarning: divide by zero encountered in scalar divide\n",
      "  fStat = (U / (k - 1)) / (Q / (n - k))\n"
     ]
    },
    {
     "name": "stdout",
     "output_type": "stream",
     "text": [
      "0.0648648738861084\n",
      "REGRESSION\n",
      "----------\n",
      "\n",
      "SUMMARY OF OUTPUT: ORDINARY LEAST SQUARES ESTIMATION - REGIME 1\n",
      "---------------------------------------------------------------\n",
      "Data set            :      od_df2\n",
      "Weights matrix      :    q_order1\n",
      "Dependent Variable  :   1_od_2021                Number of Observations:          12\n",
      "Mean dependent var  :      0.0450                Number of Variables   :           3\n",
      "S.D. dependent var  :      0.0290                Degrees of Freedom    :           9\n",
      "R-squared           :      0.0070\n",
      "Adjusted R-squared  :     -0.2137\n",
      "Sum squared residual:       0.009                F-statistic           :      0.0316\n",
      "Sigma-square        :       0.001                Prob(F-statistic)     :       0.969\n",
      "S.E. of regression  :       0.032                Log likelihood        :      26.004\n",
      "Sigma-square ML     :       0.001                Akaike info criterion :     -46.008\n",
      "S.E of regression ML:      0.0277                Schwarz criterion     :     -44.553\n",
      "\n",
      "------------------------------------------------------------------------------------\n",
      "            Variable     Coefficient       Std.Error     t-Statistic     Probability\n",
      "------------------------------------------------------------------------------------\n",
      "          1_CONSTANT       0.0453548       0.0193109       2.3486701       0.0433995\n",
      "       1_bupren_area       0.3491064       1.4656060       0.2381993       0.8170612\n",
      "     1_pharmacy_area      -0.1547983       1.1119288      -0.1392161       0.8923449\n",
      "------------------------------------------------------------------------------------\n",
      "Regimes variable: unknown\n",
      "\n",
      "REGRESSION DIAGNOSTICS\n",
      "MULTICOLLINEARITY CONDITION NUMBER            4.400\n",
      "\n",
      "TEST ON NORMALITY OF ERRORS\n",
      "TEST                             DF        VALUE           PROB\n",
      "Jarque-Bera                       2           1.315           0.5182\n",
      "\n",
      "DIAGNOSTICS FOR HETEROSKEDASTICITY\n",
      "RANDOM COEFFICIENTS\n",
      "TEST                             DF        VALUE           PROB\n",
      "Breusch-Pagan test                2           0.677           0.7130\n",
      "Koenker-Bassett test              2           1.698           0.4279\n",
      "\n",
      "DIAGNOSTICS FOR SPATIAL DEPENDENCE\n",
      "TEST                           MI/DF       VALUE           PROB\n",
      "Lagrange Multiplier (lag)         1           0.480           0.4885\n",
      "Robust LM (lag)                   1           1.296           0.2550\n",
      "Lagrange Multiplier (error)       1           0.576           0.4477\n",
      "Robust LM (error)                 1           1.392           0.2381\n",
      "Lagrange Multiplier (SARMA)       2           1.872           0.3922\n",
      "\n",
      "----------\n",
      "\n",
      "SUMMARY OF OUTPUT: ORDINARY LEAST SQUARES ESTIMATION - REGIME 2\n",
      "---------------------------------------------------------------\n",
      "Data set            :      od_df2\n",
      "Weights matrix      :    q_order1\n",
      "Dependent Variable  :   2_od_2021                Number of Observations:          15\n",
      "Mean dependent var  :      0.0195                Number of Variables   :           3\n",
      "S.D. dependent var  :      0.0126                Degrees of Freedom    :          12\n",
      "R-squared           :      0.1085\n",
      "Adjusted R-squared  :     -0.0401\n",
      "Sum squared residual:       0.002                F-statistic           :      0.7300\n",
      "Sigma-square        :       0.000                Prob(F-statistic)     :      0.5021\n",
      "S.E. of regression  :       0.013                Log likelihood        :      45.663\n",
      "Sigma-square ML     :       0.000                Akaike info criterion :     -85.327\n",
      "S.E of regression ML:      0.0115                Schwarz criterion     :     -83.203\n",
      "\n",
      "------------------------------------------------------------------------------------\n",
      "            Variable     Coefficient       Std.Error     t-Statistic     Probability\n",
      "------------------------------------------------------------------------------------\n",
      "          2_CONSTANT       0.0133485       0.0070270       1.8995975       0.0817812\n",
      "       2_bupren_area       0.6074177       0.8437222       0.7199262       0.4853570\n",
      "     2_pharmacy_area       0.3179832       0.6903351       0.4606215       0.6533060\n",
      "------------------------------------------------------------------------------------\n",
      "Regimes variable: unknown\n",
      "\n",
      "REGRESSION DIAGNOSTICS\n",
      "MULTICOLLINEARITY CONDITION NUMBER            4.984\n",
      "\n",
      "TEST ON NORMALITY OF ERRORS\n",
      "TEST                             DF        VALUE           PROB\n",
      "Jarque-Bera                       2           0.121           0.9412\n",
      "\n",
      "DIAGNOSTICS FOR HETEROSKEDASTICITY\n",
      "RANDOM COEFFICIENTS\n",
      "TEST                             DF        VALUE           PROB\n",
      "Breusch-Pagan test                2           0.909           0.6349\n",
      "Koenker-Bassett test              2           1.131           0.5682\n",
      "\n",
      "DIAGNOSTICS FOR SPATIAL DEPENDENCE\n",
      "TEST                           MI/DF       VALUE           PROB\n",
      "Lagrange Multiplier (lag)         1           0.653           0.4191\n",
      "Robust LM (lag)                   1           7.479           0.0062\n",
      "Lagrange Multiplier (error)       1           1.990           0.1583\n",
      "Robust LM (error)                 1           8.816           0.0030\n",
      "Lagrange Multiplier (SARMA)       2           9.469           0.0088\n",
      "\n",
      "----------\n",
      "\n",
      "SUMMARY OF OUTPUT: ORDINARY LEAST SQUARES ESTIMATION - REGIME 3\n",
      "---------------------------------------------------------------\n",
      "Data set            :      od_df2\n",
      "Weights matrix      :    q_order1\n",
      "Dependent Variable  :   3_od_2021                Number of Observations:           3\n",
      "Mean dependent var  :      0.0444                Number of Variables   :           3\n",
      "S.D. dependent var  :      0.0220                Degrees of Freedom    :           0\n",
      "R-squared           :      1.0000\n",
      "Adjusted R-squared  :         nan\n",
      "Sum squared residual:       0.000                F-statistic           :      0.0000\n",
      "Sigma-square        :         inf                Prob(F-statistic)     :         nan\n",
      "S.E. of regression  :         inf                Log likelihood        :     110.201\n",
      "Sigma-square ML     :       0.000                Akaike info criterion :    -214.402\n",
      "S.E of regression ML:      0.0000                Schwarz criterion     :    -217.106\n",
      "\n",
      "------------------------------------------------------------------------------------\n",
      "            Variable     Coefficient       Std.Error     t-Statistic     Probability\n",
      "------------------------------------------------------------------------------------\n",
      "          3_CONSTANT       0.0107729             inf       0.0000000             nan\n",
      "       3_bupren_area       0.1106252             inf       0.0000000             nan\n",
      "     3_pharmacy_area       1.0207449             inf       0.0000000             nan\n",
      "------------------------------------------------------------------------------------\n",
      "Regimes variable: unknown\n",
      "\n",
      "REGRESSION DIAGNOSTICS\n",
      "MULTICOLLINEARITY CONDITION NUMBER            4.584\n",
      "\n",
      "TEST ON NORMALITY OF ERRORS\n",
      "TEST                             DF        VALUE           PROB\n",
      "Jarque-Bera                       2           0.991           0.6093\n",
      "\n",
      "DIAGNOSTICS FOR HETEROSKEDASTICITY\n",
      "RANDOM COEFFICIENTS\n",
      "TEST                             DF        VALUE           PROB\n",
      "Breusch-Pagan test                2           0.142           0.9315\n",
      "Koenker-Bassett test              2           3.000           0.2231\n",
      "\n",
      "DIAGNOSTICS FOR SPATIAL DEPENDENCE\n",
      "TEST                           MI/DF       VALUE           PROB\n",
      "Lagrange Multiplier (lag)         1    7689909060306854.000           0.0000\n",
      "Robust LM (lag)                   1    7689909060306853.000           0.0000\n",
      "Lagrange Multiplier (error)       1           1.978           0.1596\n",
      "Robust LM (error)                 1           1.651           0.1988\n",
      "Lagrange Multiplier (SARMA)       2    7689909060306855.000           0.0000\n",
      "\n",
      "----------\n",
      "\n",
      "SUMMARY OF OUTPUT: ORDINARY LEAST SQUARES ESTIMATION - REGIME 4\n",
      "---------------------------------------------------------------\n",
      "Data set            :      od_df2\n",
      "Weights matrix      :    q_order1\n",
      "Dependent Variable  :   4_od_2021                Number of Observations:          16\n",
      "Mean dependent var  :      0.0633                Number of Variables   :           3\n",
      "S.D. dependent var  :      0.0939                Degrees of Freedom    :          13\n",
      "R-squared           :      0.7649\n",
      "Adjusted R-squared  :      0.7288\n",
      "Sum squared residual:       0.031                F-statistic           :     21.1509\n",
      "Sigma-square        :       0.002                Prob(F-statistic)     :   8.181e-05\n",
      "S.E. of regression  :       0.049                Log likelihood        :      27.251\n",
      "Sigma-square ML     :       0.002                Akaike info criterion :     -48.502\n",
      "S.E of regression ML:      0.0441                Schwarz criterion     :     -46.184\n",
      "\n",
      "------------------------------------------------------------------------------------\n",
      "            Variable     Coefficient       Std.Error     t-Statistic     Probability\n",
      "------------------------------------------------------------------------------------\n",
      "          4_CONSTANT       0.0032596       0.0210705       0.1547003       0.8794336\n",
      "       4_bupren_area       5.5894616       1.3707988       4.0775215       0.0013071\n",
      "     4_pharmacy_area       0.8937777       1.6461811       0.5429401       0.5963577\n",
      "------------------------------------------------------------------------------------\n",
      "Regimes variable: unknown\n",
      "\n",
      "REGRESSION DIAGNOSTICS\n",
      "MULTICOLLINEARITY CONDITION NUMBER            4.731\n",
      "\n",
      "TEST ON NORMALITY OF ERRORS\n",
      "TEST                             DF        VALUE           PROB\n",
      "Jarque-Bera                       2          11.148           0.0038\n",
      "\n",
      "DIAGNOSTICS FOR HETEROSKEDASTICITY\n",
      "RANDOM COEFFICIENTS\n",
      "TEST                             DF        VALUE           PROB\n",
      "Breusch-Pagan test                2           2.936           0.2303\n",
      "Koenker-Bassett test              2           1.243           0.5372\n",
      "\n",
      "DIAGNOSTICS FOR SPATIAL DEPENDENCE\n",
      "TEST                           MI/DF       VALUE           PROB\n",
      "Lagrange Multiplier (lag)         1           0.126           0.7229\n",
      "Robust LM (lag)                   1           0.253           0.6148\n",
      "Lagrange Multiplier (error)       1           1.307           0.2530\n",
      "Robust LM (error)                 1           1.434           0.2311\n",
      "Lagrange Multiplier (SARMA)       2           1.560           0.4584\n",
      "\n",
      "----------\n",
      "\n",
      "SUMMARY OF OUTPUT: ORDINARY LEAST SQUARES ESTIMATION - REGIME 5\n",
      "---------------------------------------------------------------\n",
      "Data set            :      od_df2\n",
      "Weights matrix      :    q_order1\n",
      "Dependent Variable  :   5_od_2021                Number of Observations:           9\n",
      "Mean dependent var  :      0.1656                Number of Variables   :           3\n",
      "S.D. dependent var  :      0.1675                Degrees of Freedom    :           6\n",
      "R-squared           :      0.0462\n",
      "Adjusted R-squared  :     -0.2717\n",
      "Sum squared residual:       0.214                F-statistic           :      0.1453\n",
      "Sigma-square        :       0.036                Prob(F-statistic)     :      0.8677\n",
      "S.E. of regression  :       0.189                Log likelihood        :       4.053\n",
      "Sigma-square ML     :       0.024                Akaike info criterion :      -2.106\n",
      "S.E of regression ML:      0.1542                Schwarz criterion     :      -1.514\n",
      "\n",
      "------------------------------------------------------------------------------------\n",
      "            Variable     Coefficient       Std.Error     t-Statistic     Probability\n",
      "------------------------------------------------------------------------------------\n",
      "          5_CONSTANT       0.1525002       0.1664065       0.9164317       0.3947819\n",
      "       5_bupren_area      -0.5839980       1.0904886      -0.5355379       0.6115369\n",
      "     5_pharmacy_area       2.9141160      11.0834082       0.2629260       0.8014031\n",
      "------------------------------------------------------------------------------------\n",
      "Regimes variable: unknown\n",
      "\n",
      "REGRESSION DIAGNOSTICS\n",
      "MULTICOLLINEARITY CONDITION NUMBER            6.498\n",
      "\n",
      "TEST ON NORMALITY OF ERRORS\n",
      "TEST                             DF        VALUE           PROB\n",
      "Jarque-Bera                       2           1.173           0.5563\n",
      "\n",
      "DIAGNOSTICS FOR HETEROSKEDASTICITY\n",
      "RANDOM COEFFICIENTS\n",
      "TEST                             DF        VALUE           PROB\n",
      "Breusch-Pagan test                2           3.571           0.1677\n",
      "Koenker-Bassett test              2           4.557           0.1024\n",
      "\n",
      "DIAGNOSTICS FOR SPATIAL DEPENDENCE\n",
      "TEST                           MI/DF       VALUE           PROB\n",
      "Lagrange Multiplier (lag)         1           0.265           0.6069\n",
      "Robust LM (lag)                   1           0.595           0.4403\n",
      "Lagrange Multiplier (error)       1           0.194           0.6592\n",
      "Robust LM (error)                 1           0.525           0.4687\n",
      "Lagrange Multiplier (SARMA)       2           0.790           0.6737\n",
      "\n",
      "----------\n",
      "\n",
      "SUMMARY OF OUTPUT: ORDINARY LEAST SQUARES ESTIMATION - REGIME 6\n",
      "---------------------------------------------------------------\n",
      "Data set            :      od_df2\n",
      "Weights matrix      :    q_order1\n",
      "Dependent Variable  :   6_od_2021                Number of Observations:          14\n",
      "Mean dependent var  :      0.0570                Number of Variables   :           3\n",
      "S.D. dependent var  :      0.0294                Degrees of Freedom    :          11\n",
      "R-squared           :      0.1195\n",
      "Adjusted R-squared  :     -0.0405\n",
      "Sum squared residual:       0.010                F-statistic           :      0.7467\n",
      "Sigma-square        :       0.001                Prob(F-statistic)     :      0.4965\n",
      "S.E. of regression  :       0.030                Log likelihood        :      30.900\n",
      "Sigma-square ML     :       0.001                Akaike info criterion :     -55.800\n",
      "S.E of regression ML:      0.0266                Schwarz criterion     :     -53.883\n",
      "\n",
      "------------------------------------------------------------------------------------\n",
      "            Variable     Coefficient       Std.Error     t-Statistic     Probability\n",
      "------------------------------------------------------------------------------------\n",
      "          6_CONSTANT       0.0671702       0.0135254       4.9662347       0.0004246\n",
      "       6_bupren_area      -0.3288465       0.2918814      -1.1266443       0.2838710\n",
      "     6_pharmacy_area      -0.3442228       0.9384782      -0.3667883       0.7207349\n",
      "------------------------------------------------------------------------------------\n",
      "Regimes variable: unknown\n",
      "\n",
      "REGRESSION DIAGNOSTICS\n",
      "MULTICOLLINEARITY CONDITION NUMBER            3.195\n",
      "\n",
      "TEST ON NORMALITY OF ERRORS\n",
      "TEST                             DF        VALUE           PROB\n",
      "Jarque-Bera                       2           0.749           0.6876\n",
      "\n",
      "DIAGNOSTICS FOR HETEROSKEDASTICITY\n",
      "RANDOM COEFFICIENTS\n",
      "TEST                             DF        VALUE           PROB\n",
      "Breusch-Pagan test                2           0.660           0.7188\n",
      "Koenker-Bassett test              2           1.246           0.5362\n",
      "\n",
      "DIAGNOSTICS FOR SPATIAL DEPENDENCE\n",
      "TEST                           MI/DF       VALUE           PROB\n",
      "Lagrange Multiplier (lag)         1           0.378           0.5386\n",
      "Robust LM (lag)                   1           0.279           0.5972\n",
      "Lagrange Multiplier (error)       1           0.577           0.4474\n",
      "Robust LM (error)                 1           0.478           0.4892\n",
      "Lagrange Multiplier (SARMA)       2           0.856           0.6517\n",
      "\n",
      "----------\n",
      "\n",
      "SUMMARY OF OUTPUT: ORDINARY LEAST SQUARES ESTIMATION - REGIME 7\n",
      "---------------------------------------------------------------\n",
      "Data set            :      od_df2\n",
      "Weights matrix      :    q_order1\n",
      "Dependent Variable  :   7_od_2021                Number of Observations:           8\n",
      "Mean dependent var  :      0.0187                Number of Variables   :           3\n",
      "S.D. dependent var  :      0.0164                Degrees of Freedom    :           5\n",
      "R-squared           :      0.6913\n",
      "Adjusted R-squared  :      0.5679\n",
      "Sum squared residual:       0.001                F-statistic           :      5.5996\n",
      "Sigma-square        :       0.000                Prob(F-statistic)     :     0.05293\n",
      "S.E. of regression  :       0.011                Log likelihood        :      26.767\n",
      "Sigma-square ML     :       0.000                Akaike info criterion :     -47.535\n",
      "S.E of regression ML:      0.0085                Schwarz criterion     :     -47.296\n",
      "\n",
      "------------------------------------------------------------------------------------\n",
      "            Variable     Coefficient       Std.Error     t-Statistic     Probability\n",
      "------------------------------------------------------------------------------------\n",
      "          7_CONSTANT       0.0631363       0.0153645       4.1092346       0.0092708\n",
      "       7_bupren_area       0.4751533       0.3516465       1.3512243       0.2345432\n",
      "     7_pharmacy_area      -2.5634751       0.7704860      -3.3270884       0.0208454\n",
      "------------------------------------------------------------------------------------\n",
      "Regimes variable: unknown\n",
      "\n",
      "REGRESSION DIAGNOSTICS\n",
      "MULTICOLLINEARITY CONDITION NUMBER            9.445\n",
      "\n",
      "TEST ON NORMALITY OF ERRORS\n",
      "TEST                             DF        VALUE           PROB\n",
      "Jarque-Bera                       2           0.496           0.7804\n",
      "\n",
      "DIAGNOSTICS FOR HETEROSKEDASTICITY\n",
      "RANDOM COEFFICIENTS\n",
      "TEST                             DF        VALUE           PROB\n",
      "Breusch-Pagan test                2           1.025           0.5989\n",
      "Koenker-Bassett test              2           1.787           0.4093\n",
      "\n",
      "DIAGNOSTICS FOR SPATIAL DEPENDENCE\n",
      "TEST                           MI/DF       VALUE           PROB\n",
      "Lagrange Multiplier (lag)         1           0.004           0.9512\n",
      "Robust LM (lag)                   1           0.182           0.6695\n",
      "Lagrange Multiplier (error)       1           0.181           0.6707\n",
      "Robust LM (error)                 1           0.359           0.5489\n",
      "Lagrange Multiplier (SARMA)       2           0.363           0.8340\n",
      "\n",
      "\n",
      "REGIMES DIAGNOSTICS - CHOW TEST\n",
      "                 VARIABLE        DF        VALUE           PROB\n",
      "                 CONSTANT         6             nan              nan\n",
      "              bupren_area         6             nan              nan\n",
      "            pharmacy_area         6             nan              nan\n",
      "              Global test        18             nan              nan\n",
      "\n",
      "DIAGNOSTICS FOR GLOBAL SPATIAL DEPENDENCE\n",
      "Residuals are treated as homoskedastic for the purpose of these tests\n",
      "TEST                           MI/DF       VALUE           PROB\n",
      "Lagrange Multiplier (lag)         1           9.806           0.0017\n",
      "Robust LM (lag)                   1          21.873           0.0000\n",
      "Lagrange Multiplier (error)       1           1.053           0.3048\n",
      "Robust LM (error)                 1          13.119           0.0003\n",
      "Lagrange Multiplier (SARMA)       2          22.925           0.0000\n",
      "\n",
      "================================ END OF REPORT =====================================\n"
     ]
    }
   ],
   "source": [
    "t0 = time.time()\n",
    "reg_1_regime = spreg.OLS_Regimes(y3, x1, regimes, w=wq, spat_diag=True,\n",
    "                        name_y=y_name3, name_x=x_names1, #name_regimes=rvar,\n",
    "                        name_w=w_name,name_ds=ds_name)\n",
    "t1 = time.time()\n",
    "print(t1-t0)\n",
    "print(reg_1_regime.summary)"
   ]
  },
  {
   "cell_type": "code",
   "execution_count": 39,
   "id": "0cc8634e",
   "metadata": {},
   "outputs": [],
   "source": [
    "#t0 = time.time()\n",
    "#reg_2_regime = spreg.OLS_Regimes(y3, x2, regimes, w=wq, spat_diag=True,\n",
    "#                        name_y=y_name3, name_x=x_names2, #name_regimes=rvar,\n",
    "#                        name_w=w_name,name_ds=ds_name)\n",
    "#t1 = time.time()\n",
    "#print(t1-t0)\n",
    "#print(reg_2_regime.summary)"
   ]
  },
  {
   "cell_type": "markdown",
   "id": "9ce625bc",
   "metadata": {},
   "source": [
    "Attempting to include additional explanatory variables with spatial regimes results in major issues as there are not enough observations per regime and decreasing the number of groups does not help the problem of few observations. Further, this may mask heterogeneity that would actually provide useful and/or interesting information. "
   ]
  },
  {
   "cell_type": "markdown",
   "id": "6512100b",
   "metadata": {},
   "source": [
    "My primary focus with this analysis was to capture and examine the effect of the density of buprenorphine providers on the fatal overdose rate. Based on the explanatory variables I've selected, the concentration of buprenorphone providers in a given community area does not appear to have a statistically significant effect on the rate of fatal overdoses in that area. However, the concentration of pharmacies in a given area is statistically signficiant in the model including all the explanatory variables and holding constant the effects of these variables, a higher rate of pharmacies per community area has a positive effect on the rate of fatal overdoses. This is in no way a generalizable finding but I decided to explore this a bit more by looking at what happens to the estimates on the other explanatory variables when I omit buprenorphine providers and maintain the variables that are statistically significant or close to significant in the previous OLS regression (concentration of pharmacies, the percent of Black residents, the percent of White reseidents, and the percent of residents with no HS diploma). "
   ]
  },
  {
   "cell_type": "code",
   "execution_count": 40,
   "id": "aeb05217",
   "metadata": {},
   "outputs": [],
   "source": [
    "x_names2 = [#'bupren_area', \n",
    "            'pharmacy_area', \n",
    "            '% in Poverty',\n",
    "            '% Black',\n",
    "            '% White', \n",
    "            '% no HS Diploma',\n",
    "            'Uninsured Rate'\n",
    "           ]"
   ]
  },
  {
   "cell_type": "code",
   "execution_count": 41,
   "id": "f33f5632",
   "metadata": {},
   "outputs": [],
   "source": [
    "x2 = np.array(od_df2[x_names2])"
   ]
  },
  {
   "cell_type": "code",
   "execution_count": 42,
   "id": "5d195444",
   "metadata": {},
   "outputs": [
    {
     "name": "stdout",
     "output_type": "stream",
     "text": [
      "0.016043663024902344\n",
      "REGRESSION\n",
      "----------\n",
      "SUMMARY OF OUTPUT: MAXIMUM LIKELIHOOD SPATIAL LAG (METHOD = FULL)\n",
      "-----------------------------------------------------------------\n",
      "Data set            :      od_df2\n",
      "Weights matrix      :    q_order1\n",
      "Dependent Variable  :     od_2021                Number of Observations:          77\n",
      "Mean dependent var  :      0.0574                Number of Variables   :           8\n",
      "S.D. dependent var  :      0.0830                Degrees of Freedom    :          69\n",
      "Pseudo R-squared    :      0.6653\n",
      "Spatial Pseudo R-squared:  0.5921\n",
      "Sigma-square ML     :       0.002                Log likelihood        :     123.044\n",
      "S.E of regression   :       0.048                Akaike info criterion :    -230.088\n",
      "                                                 Schwarz criterion     :    -211.338\n",
      "\n",
      "------------------------------------------------------------------------------------\n",
      "            Variable     Coefficient       Std.Error     z-Statistic     Probability\n",
      "------------------------------------------------------------------------------------\n",
      "            CONSTANT      -0.3021645       0.0551625      -5.4777208       0.0000000\n",
      "       pharmacy_area       1.8245897       0.6057158       3.0122865       0.0025929\n",
      "        % in Poverty       0.0010875       0.0009360       1.1618405       0.2453003\n",
      "             % Black       0.0022764       0.0004712       4.8311668       0.0000014\n",
      "             % White       0.0032406       0.0006940       4.6692325       0.0000030\n",
      "     % no HS Diploma       0.0081971       0.0017252       4.7512856       0.0000020\n",
      "      Uninsured Rate      -0.0011981       0.0018393      -0.6513669       0.5148097\n",
      "           W_od_2021       0.4597566       0.1142026       4.0257969       0.0000568\n",
      "------------------------------------------------------------------------------------\n",
      "================================ END OF REPORT =====================================\n"
     ]
    },
    {
     "name": "stderr",
     "output_type": "stream",
     "text": [
      "/Users/polinarozhkova/anaconda3/lib/python3.10/site-packages/scipy/optimize/_minimize.py:892: RuntimeWarning: Method 'bounded' does not support relative tolerance in x; defaulting to absolute tolerance.\n",
      "  warn(\"Method 'bounded' does not support relative tolerance in x; \"\n"
     ]
    }
   ],
   "source": [
    "t0 = time.time()\n",
    "lag2 = spreg.ML_Lag(y3,x2,w=wq,name_y=y_name3,name_x=x_names2,\n",
    "                     name_w=w_name,name_ds=ds_name)\n",
    "t1 = time.time()\n",
    "print(t1-t0)\n",
    "print(lag2.summary)"
   ]
  },
  {
   "cell_type": "markdown",
   "id": "0278a678",
   "metadata": {},
   "source": [
    "This final spatial lag model which excludes some of the explanatory variables from the previous models maintains estimated coefficient signs and the coefficients that were previously statistically signficant remain so. If I'm to compare between the two spatial lag models, the lower AIC here might be indicative of an improved fit. "
   ]
  },
  {
   "cell_type": "markdown",
   "id": "4c302ab9",
   "metadata": {},
   "source": [
    "My plan is to try this again with different data for the dependent variable following the lead of most of the related literature which accounts for fatal and non-fatal overdoses. "
   ]
  },
  {
   "cell_type": "code",
   "execution_count": null,
   "id": "c229c546",
   "metadata": {},
   "outputs": [],
   "source": []
  }
 ],
 "metadata": {
  "kernelspec": {
   "display_name": "Python 3 (ipykernel)",
   "language": "python",
   "name": "python3"
  },
  "language_info": {
   "codemirror_mode": {
    "name": "ipython",
    "version": 3
   },
   "file_extension": ".py",
   "mimetype": "text/x-python",
   "name": "python",
   "nbconvert_exporter": "python",
   "pygments_lexer": "ipython3",
   "version": "3.10.10"
  }
 },
 "nbformat": 4,
 "nbformat_minor": 5
}
